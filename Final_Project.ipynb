{
 "cells": [
  {
   "cell_type": "markdown",
   "metadata": {},
   "source": [
    "## Importing the Data"
   ]
  },
  {
   "cell_type": "code",
   "execution_count": 1,
   "metadata": {},
   "outputs": [
    {
     "data": {
      "text/html": [
       "<div>\n",
       "<style scoped>\n",
       "    .dataframe tbody tr th:only-of-type {\n",
       "        vertical-align: middle;\n",
       "    }\n",
       "\n",
       "    .dataframe tbody tr th {\n",
       "        vertical-align: top;\n",
       "    }\n",
       "\n",
       "    .dataframe thead th {\n",
       "        text-align: right;\n",
       "    }\n",
       "</style>\n",
       "<table border=\"1\" class=\"dataframe\">\n",
       "  <thead>\n",
       "    <tr style=\"text-align: right;\">\n",
       "      <th></th>\n",
       "      <th>ZTFID</th>\n",
       "      <th>IAUID</th>\n",
       "      <th>RA</th>\n",
       "      <th>Dec</th>\n",
       "      <th>peakt</th>\n",
       "      <th>peakfilt</th>\n",
       "      <th>peakmag</th>\n",
       "      <th>peakabs</th>\n",
       "      <th>duration</th>\n",
       "      <th>rise</th>\n",
       "      <th>fade</th>\n",
       "      <th>type</th>\n",
       "      <th>redshift</th>\n",
       "      <th>b</th>\n",
       "      <th>A_V</th>\n",
       "    </tr>\n",
       "  </thead>\n",
       "  <tbody>\n",
       "    <tr>\n",
       "      <th>0</th>\n",
       "      <td>ZTF17aaaeqms</td>\n",
       "      <td>AT2023jkf</td>\n",
       "      <td>01:19:13.43</td>\n",
       "      <td>+31:46:26.1</td>\n",
       "      <td>2102.97</td>\n",
       "      <td>r</td>\n",
       "      <td>17.5839</td>\n",
       "      <td>-</td>\n",
       "      <td>18.001</td>\n",
       "      <td>12.004</td>\n",
       "      <td>5.997</td>\n",
       "      <td>-</td>\n",
       "      <td>-</td>\n",
       "      <td>-30.726791</td>\n",
       "      <td>0.205</td>\n",
       "    </tr>\n",
       "    <tr>\n",
       "      <th>1</th>\n",
       "      <td>ZTF17aaajowi</td>\n",
       "      <td>-</td>\n",
       "      <td>11:47:44.37</td>\n",
       "      <td>+14:34:10.4</td>\n",
       "      <td>1362.73</td>\n",
       "      <td>r</td>\n",
       "      <td>18.9963</td>\n",
       "      <td>-</td>\n",
       "      <td>&gt;5.611</td>\n",
       "      <td>2.651</td>\n",
       "      <td>&gt;2.96</td>\n",
       "      <td>-</td>\n",
       "      <td>-</td>\n",
       "      <td>70.564727</td>\n",
       "      <td>0.127</td>\n",
       "    </tr>\n",
       "    <tr>\n",
       "      <th>2</th>\n",
       "      <td>ZTF17aaanztg</td>\n",
       "      <td>AT2021abaw</td>\n",
       "      <td>10:04:06.59</td>\n",
       "      <td>-01:12:18.6</td>\n",
       "      <td>1501.02</td>\n",
       "      <td>r</td>\n",
       "      <td>18.3035</td>\n",
       "      <td>-</td>\n",
       "      <td>&gt;14.737</td>\n",
       "      <td>&gt;3</td>\n",
       "      <td>11.737</td>\n",
       "      <td>-</td>\n",
       "      <td>-</td>\n",
       "      <td>40.798120</td>\n",
       "      <td>0.210</td>\n",
       "    </tr>\n",
       "    <tr>\n",
       "      <th>3</th>\n",
       "      <td>ZTF17aaaocnx</td>\n",
       "      <td>AT2019dlf</td>\n",
       "      <td>06:12:54.20</td>\n",
       "      <td>+48:49:57.0</td>\n",
       "      <td>584.70</td>\n",
       "      <td>g</td>\n",
       "      <td>17.2290</td>\n",
       "      <td>-</td>\n",
       "      <td>6.213</td>\n",
       "      <td>0.803</td>\n",
       "      <td>5.41</td>\n",
       "      <td>-</td>\n",
       "      <td>-</td>\n",
       "      <td>14.194943</td>\n",
       "      <td>0.407</td>\n",
       "    </tr>\n",
       "    <tr>\n",
       "      <th>4</th>\n",
       "      <td>ZTF17aaaptxx</td>\n",
       "      <td>AT2023gdf</td>\n",
       "      <td>11:54:24.96</td>\n",
       "      <td>+09:36:32.8</td>\n",
       "      <td>2053.73</td>\n",
       "      <td>g</td>\n",
       "      <td>18.9437</td>\n",
       "      <td>-</td>\n",
       "      <td>&gt;2</td>\n",
       "      <td>&gt;2</td>\n",
       "      <td>&gt;0</td>\n",
       "      <td>-</td>\n",
       "      <td>-</td>\n",
       "      <td>67.910221</td>\n",
       "      <td>0.079</td>\n",
       "    </tr>\n",
       "  </tbody>\n",
       "</table>\n",
       "</div>"
      ],
      "text/plain": [
       "          ZTFID       IAUID           RA          Dec    peakt peakfilt  \\\n",
       "0  ZTF17aaaeqms   AT2023jkf  01:19:13.43  +31:46:26.1  2102.97        r   \n",
       "1  ZTF17aaajowi           -  11:47:44.37  +14:34:10.4  1362.73        r   \n",
       "2  ZTF17aaanztg  AT2021abaw  10:04:06.59  -01:12:18.6  1501.02        r   \n",
       "3  ZTF17aaaocnx   AT2019dlf  06:12:54.20  +48:49:57.0   584.70        g   \n",
       "4  ZTF17aaaptxx   AT2023gdf  11:54:24.96  +09:36:32.8  2053.73        g   \n",
       "\n",
       "   peakmag peakabs duration    rise    fade type redshift          b    A_V  \n",
       "0  17.5839       -   18.001  12.004   5.997    -        - -30.726791  0.205  \n",
       "1  18.9963       -   >5.611   2.651   >2.96    -        -  70.564727  0.127  \n",
       "2  18.3035       -  >14.737      >3  11.737    -        -  40.798120  0.210  \n",
       "3  17.2290       -    6.213   0.803    5.41    -        -  14.194943  0.407  \n",
       "4  18.9437       -       >2      >2      >0    -        -  67.910221  0.079  "
      ]
     },
     "execution_count": 1,
     "metadata": {},
     "output_type": "execute_result"
    }
   ],
   "source": [
    "# Read in the data\n",
    "import pandas as pd\n",
    "import numpy as np\n",
    "import matplotlib.pyplot as plt\n",
    "import seaborn as sns\n",
    "\n",
    "df_spectra = pd.read_csv('data/spectra.csv', header=None)\n",
    "df_bts = pd.read_csv('data/BTS.csv')\n",
    "df_bts.head()"
   ]
  },
  {
   "cell_type": "markdown",
   "metadata": {},
   "source": [
    "## Data Cleaning"
   ]
  },
  {
   "cell_type": "code",
   "execution_count": 2,
   "metadata": {},
   "outputs": [
    {
     "data": {
      "text/html": [
       "<div>\n",
       "<style scoped>\n",
       "    .dataframe tbody tr th:only-of-type {\n",
       "        vertical-align: middle;\n",
       "    }\n",
       "\n",
       "    .dataframe tbody tr th {\n",
       "        vertical-align: top;\n",
       "    }\n",
       "\n",
       "    .dataframe thead th {\n",
       "        text-align: right;\n",
       "    }\n",
       "</style>\n",
       "<table border=\"1\" class=\"dataframe\">\n",
       "  <thead>\n",
       "    <tr style=\"text-align: right;\">\n",
       "      <th></th>\n",
       "      <th>0</th>\n",
       "      <th>1</th>\n",
       "      <th>2</th>\n",
       "      <th>3</th>\n",
       "      <th>4</th>\n",
       "      <th>5</th>\n",
       "      <th>6</th>\n",
       "      <th>7</th>\n",
       "      <th>8</th>\n",
       "      <th>9</th>\n",
       "      <th>...</th>\n",
       "      <th>25</th>\n",
       "      <th>26</th>\n",
       "      <th>27</th>\n",
       "      <th>28</th>\n",
       "      <th>29</th>\n",
       "      <th>30</th>\n",
       "      <th>31</th>\n",
       "      <th>32</th>\n",
       "      <th>33</th>\n",
       "      <th>34</th>\n",
       "    </tr>\n",
       "  </thead>\n",
       "  <tbody>\n",
       "    <tr>\n",
       "      <th>0</th>\n",
       "      <td>ZTFID</td>\n",
       "      <td>errors</td>\n",
       "      <td>followup_request_id</td>\n",
       "      <td>created_at</td>\n",
       "      <td>units</td>\n",
       "      <td>assignment_id</td>\n",
       "      <td>modified</td>\n",
       "      <td>obj_id</td>\n",
       "      <td>altdata</td>\n",
       "      <td>observed_at</td>\n",
       "      <td>...</td>\n",
       "      <td>groups</td>\n",
       "      <td>pis</td>\n",
       "      <td>reducers</td>\n",
       "      <td>observers</td>\n",
       "      <td>observed_at_mjd</td>\n",
       "      <td>owner</td>\n",
       "      <td>obj_internal_key</td>\n",
       "      <td>external_reducer</td>\n",
       "      <td>external_observer</td>\n",
       "      <td>external_pi</td>\n",
       "    </tr>\n",
       "    <tr>\n",
       "      <th>1</th>\n",
       "      <td>ZTF22abfpgcn</td>\n",
       "      <td>[3.819e-34, 3.201e-34, 1.493e-34, 9.351e-32, 7...</td>\n",
       "      <td>16946</td>\n",
       "      <td>2022-09-07T11:16:53.599008</td>\n",
       "      <td>NaN</td>\n",
       "      <td>NaN</td>\n",
       "      <td>2022-09-07T11:16:53.599008</td>\n",
       "      <td>ZTF22abfpgcn</td>\n",
       "      <td>{'JD': 2459829.9428332, 'RA': 19600.12, 'ADC':...</td>\n",
       "      <td>2022-09-07T10:37:40</td>\n",
       "      <td>...</td>\n",
       "      <td>[{'id': 12, 'created_at': '2020-10-21T06:20:33...</td>\n",
       "      <td>[]</td>\n",
       "      <td>[]</td>\n",
       "      <td>[]</td>\n",
       "      <td>59829.442824074074</td>\n",
       "      <td>{'username': 'sedm-robot', 'first_name': 'SEDm...</td>\n",
       "      <td>36b81dbf-18f6-49be-be2e-cdb713badbb5</td>\n",
       "      <td>NaN</td>\n",
       "      <td>NaN</td>\n",
       "      <td>NaN</td>\n",
       "    </tr>\n",
       "    <tr>\n",
       "      <th>2</th>\n",
       "      <td>ZTF21aaqyetj</td>\n",
       "      <td>NaN</td>\n",
       "      <td>2865</td>\n",
       "      <td>2021-04-20T05:24:50.434325</td>\n",
       "      <td>NaN</td>\n",
       "      <td>NaN</td>\n",
       "      <td>2021-04-20T05:24:50.434325</td>\n",
       "      <td>ZTF21aaqyetj</td>\n",
       "      <td>{'JD': 2459324.6918952, 'RA': 33918.65, 'ADC':...</td>\n",
       "      <td>2021-04-20T04:36:18</td>\n",
       "      <td>...</td>\n",
       "      <td>[{'id': 12, 'created_at': '2020-10-21T06:20:33...</td>\n",
       "      <td>[]</td>\n",
       "      <td>[]</td>\n",
       "      <td>[]</td>\n",
       "      <td>59324.191875</td>\n",
       "      <td>{'username': 'sedm-robot', 'first_name': 'SEDm...</td>\n",
       "      <td>58a402af-3650-4992-a84f-cb0f1d80abf6</td>\n",
       "      <td>NaN</td>\n",
       "      <td>NaN</td>\n",
       "      <td>NaN</td>\n",
       "    </tr>\n",
       "    <tr>\n",
       "      <th>3</th>\n",
       "      <td>ZTF21aaygqkb</td>\n",
       "      <td>NaN</td>\n",
       "      <td>3374</td>\n",
       "      <td>2021-05-28T11:21:00.460649</td>\n",
       "      <td>NaN</td>\n",
       "      <td>NaN</td>\n",
       "      <td>2021-05-28T11:21:00.460649</td>\n",
       "      <td>ZTF21aaygqkb</td>\n",
       "      <td>{'JD': 2459362.9333179, 'RA': 85936.18, 'ADC':...</td>\n",
       "      <td>2021-05-28T10:23:58</td>\n",
       "      <td>...</td>\n",
       "      <td>[{'id': 12, 'created_at': '2020-10-21T06:20:33...</td>\n",
       "      <td>[]</td>\n",
       "      <td>[]</td>\n",
       "      <td>[]</td>\n",
       "      <td>59362.43331018519</td>\n",
       "      <td>{'username': 'sedm-robot', 'first_name': 'SEDm...</td>\n",
       "      <td>29999d1d-f375-4933-809d-60350093e46f</td>\n",
       "      <td>NaN</td>\n",
       "      <td>NaN</td>\n",
       "      <td>NaN</td>\n",
       "    </tr>\n",
       "    <tr>\n",
       "      <th>4</th>\n",
       "      <td>ZTF21aanwbhk</td>\n",
       "      <td>NaN</td>\n",
       "      <td>2348</td>\n",
       "      <td>2021-03-17T14:03:56.951777</td>\n",
       "      <td>NaN</td>\n",
       "      <td>NaN</td>\n",
       "      <td>2021-03-17T14:03:56.951777</td>\n",
       "      <td>ZTF21aanwbhk</td>\n",
       "      <td>{'JD': 2459290.7206854, 'RA': 42818.77, 'ADC':...</td>\n",
       "      <td>2021-03-17T05:17:46</td>\n",
       "      <td>...</td>\n",
       "      <td>[{'id': 12, 'created_at': '2020-10-21T06:20:33...</td>\n",
       "      <td>[]</td>\n",
       "      <td>[]</td>\n",
       "      <td>[]</td>\n",
       "      <td>59290.220671296294</td>\n",
       "      <td>{'username': 'sedm-robot', 'first_name': 'SEDm...</td>\n",
       "      <td>dd9f2a27-e39b-45fc-ad24-9bdcfccd4670</td>\n",
       "      <td>NaN</td>\n",
       "      <td>NaN</td>\n",
       "      <td>NaN</td>\n",
       "    </tr>\n",
       "  </tbody>\n",
       "</table>\n",
       "<p>5 rows × 35 columns</p>\n",
       "</div>"
      ],
      "text/plain": [
       "             0                                                  1   \\\n",
       "0         ZTFID                                             errors   \n",
       "1  ZTF22abfpgcn  [3.819e-34, 3.201e-34, 1.493e-34, 9.351e-32, 7...   \n",
       "2  ZTF21aaqyetj                                                NaN   \n",
       "3  ZTF21aaygqkb                                                NaN   \n",
       "4  ZTF21aanwbhk                                                NaN   \n",
       "\n",
       "                    2                           3      4              5   \\\n",
       "0  followup_request_id                  created_at  units  assignment_id   \n",
       "1                16946  2022-09-07T11:16:53.599008    NaN            NaN   \n",
       "2                 2865  2021-04-20T05:24:50.434325    NaN            NaN   \n",
       "3                 3374  2021-05-28T11:21:00.460649    NaN            NaN   \n",
       "4                 2348  2021-03-17T14:03:56.951777    NaN            NaN   \n",
       "\n",
       "                           6             7   \\\n",
       "0                    modified        obj_id   \n",
       "1  2022-09-07T11:16:53.599008  ZTF22abfpgcn   \n",
       "2  2021-04-20T05:24:50.434325  ZTF21aaqyetj   \n",
       "3  2021-05-28T11:21:00.460649  ZTF21aaygqkb   \n",
       "4  2021-03-17T14:03:56.951777  ZTF21aanwbhk   \n",
       "\n",
       "                                                  8                    9   \\\n",
       "0                                            altdata          observed_at   \n",
       "1  {'JD': 2459829.9428332, 'RA': 19600.12, 'ADC':...  2022-09-07T10:37:40   \n",
       "2  {'JD': 2459324.6918952, 'RA': 33918.65, 'ADC':...  2021-04-20T04:36:18   \n",
       "3  {'JD': 2459362.9333179, 'RA': 85936.18, 'ADC':...  2021-05-28T10:23:58   \n",
       "4  {'JD': 2459290.7206854, 'RA': 42818.77, 'ADC':...  2021-03-17T05:17:46   \n",
       "\n",
       "   ...                                                 25   26        27  \\\n",
       "0  ...                                             groups  pis  reducers   \n",
       "1  ...  [{'id': 12, 'created_at': '2020-10-21T06:20:33...   []        []   \n",
       "2  ...  [{'id': 12, 'created_at': '2020-10-21T06:20:33...   []        []   \n",
       "3  ...  [{'id': 12, 'created_at': '2020-10-21T06:20:33...   []        []   \n",
       "4  ...  [{'id': 12, 'created_at': '2020-10-21T06:20:33...   []        []   \n",
       "\n",
       "          28                  29  \\\n",
       "0  observers     observed_at_mjd   \n",
       "1         []  59829.442824074074   \n",
       "2         []        59324.191875   \n",
       "3         []   59362.43331018519   \n",
       "4         []  59290.220671296294   \n",
       "\n",
       "                                                  30  \\\n",
       "0                                              owner   \n",
       "1  {'username': 'sedm-robot', 'first_name': 'SEDm...   \n",
       "2  {'username': 'sedm-robot', 'first_name': 'SEDm...   \n",
       "3  {'username': 'sedm-robot', 'first_name': 'SEDm...   \n",
       "4  {'username': 'sedm-robot', 'first_name': 'SEDm...   \n",
       "\n",
       "                                     31                32                 33  \\\n",
       "0                      obj_internal_key  external_reducer  external_observer   \n",
       "1  36b81dbf-18f6-49be-be2e-cdb713badbb5               NaN                NaN   \n",
       "2  58a402af-3650-4992-a84f-cb0f1d80abf6               NaN                NaN   \n",
       "3  29999d1d-f375-4933-809d-60350093e46f               NaN                NaN   \n",
       "4  dd9f2a27-e39b-45fc-ad24-9bdcfccd4670               NaN                NaN   \n",
       "\n",
       "            34  \n",
       "0  external_pi  \n",
       "1          NaN  \n",
       "2          NaN  \n",
       "3          NaN  \n",
       "4          NaN  \n",
       "\n",
       "[5 rows x 35 columns]"
      ]
     },
     "execution_count": 2,
     "metadata": {},
     "output_type": "execute_result"
    }
   ],
   "source": [
    "# Transpose data so SuperNova are rows\n",
    "df_spectra = df_spectra.transpose()\n",
    "df_spectra.iloc[0,0] = 'ZTFID'\n",
    "\n",
    "df_spectra.head()"
   ]
  },
  {
   "cell_type": "code",
   "execution_count": 3,
   "metadata": {},
   "outputs": [
    {
     "data": {
      "text/html": [
       "<div>\n",
       "<style scoped>\n",
       "    .dataframe tbody tr th:only-of-type {\n",
       "        vertical-align: middle;\n",
       "    }\n",
       "\n",
       "    .dataframe tbody tr th {\n",
       "        vertical-align: top;\n",
       "    }\n",
       "\n",
       "    .dataframe thead th {\n",
       "        text-align: right;\n",
       "    }\n",
       "</style>\n",
       "<table border=\"1\" class=\"dataframe\">\n",
       "  <thead>\n",
       "    <tr style=\"text-align: right;\">\n",
       "      <th></th>\n",
       "      <th>ZTFID</th>\n",
       "      <th>errors</th>\n",
       "      <th>followup_request_id</th>\n",
       "      <th>created_at</th>\n",
       "      <th>units</th>\n",
       "      <th>assignment_id</th>\n",
       "      <th>modified</th>\n",
       "      <th>obj_id</th>\n",
       "      <th>altdata</th>\n",
       "      <th>observed_at</th>\n",
       "      <th>...</th>\n",
       "      <th>groups</th>\n",
       "      <th>pis</th>\n",
       "      <th>reducers</th>\n",
       "      <th>observers</th>\n",
       "      <th>observed_at_mjd</th>\n",
       "      <th>owner</th>\n",
       "      <th>obj_internal_key</th>\n",
       "      <th>external_reducer</th>\n",
       "      <th>external_observer</th>\n",
       "      <th>external_pi</th>\n",
       "    </tr>\n",
       "  </thead>\n",
       "  <tbody>\n",
       "    <tr>\n",
       "      <th>1</th>\n",
       "      <td>ZTF22abfpgcn</td>\n",
       "      <td>[3.819e-34, 3.201e-34, 1.493e-34, 9.351e-32, 7...</td>\n",
       "      <td>16946</td>\n",
       "      <td>2022-09-07T11:16:53.599008</td>\n",
       "      <td>NaN</td>\n",
       "      <td>NaN</td>\n",
       "      <td>2022-09-07T11:16:53.599008</td>\n",
       "      <td>ZTF22abfpgcn</td>\n",
       "      <td>{'JD': 2459829.9428332, 'RA': 19600.12, 'ADC':...</td>\n",
       "      <td>2022-09-07T10:37:40</td>\n",
       "      <td>...</td>\n",
       "      <td>[{'id': 12, 'created_at': '2020-10-21T06:20:33...</td>\n",
       "      <td>[]</td>\n",
       "      <td>[]</td>\n",
       "      <td>[]</td>\n",
       "      <td>59829.442824074074</td>\n",
       "      <td>{'username': 'sedm-robot', 'first_name': 'SEDm...</td>\n",
       "      <td>36b81dbf-18f6-49be-be2e-cdb713badbb5</td>\n",
       "      <td>NaN</td>\n",
       "      <td>NaN</td>\n",
       "      <td>NaN</td>\n",
       "    </tr>\n",
       "    <tr>\n",
       "      <th>2</th>\n",
       "      <td>ZTF21aaqyetj</td>\n",
       "      <td>NaN</td>\n",
       "      <td>2865</td>\n",
       "      <td>2021-04-20T05:24:50.434325</td>\n",
       "      <td>NaN</td>\n",
       "      <td>NaN</td>\n",
       "      <td>2021-04-20T05:24:50.434325</td>\n",
       "      <td>ZTF21aaqyetj</td>\n",
       "      <td>{'JD': 2459324.6918952, 'RA': 33918.65, 'ADC':...</td>\n",
       "      <td>2021-04-20T04:36:18</td>\n",
       "      <td>...</td>\n",
       "      <td>[{'id': 12, 'created_at': '2020-10-21T06:20:33...</td>\n",
       "      <td>[]</td>\n",
       "      <td>[]</td>\n",
       "      <td>[]</td>\n",
       "      <td>59324.191875</td>\n",
       "      <td>{'username': 'sedm-robot', 'first_name': 'SEDm...</td>\n",
       "      <td>58a402af-3650-4992-a84f-cb0f1d80abf6</td>\n",
       "      <td>NaN</td>\n",
       "      <td>NaN</td>\n",
       "      <td>NaN</td>\n",
       "    </tr>\n",
       "    <tr>\n",
       "      <th>3</th>\n",
       "      <td>ZTF21aaygqkb</td>\n",
       "      <td>NaN</td>\n",
       "      <td>3374</td>\n",
       "      <td>2021-05-28T11:21:00.460649</td>\n",
       "      <td>NaN</td>\n",
       "      <td>NaN</td>\n",
       "      <td>2021-05-28T11:21:00.460649</td>\n",
       "      <td>ZTF21aaygqkb</td>\n",
       "      <td>{'JD': 2459362.9333179, 'RA': 85936.18, 'ADC':...</td>\n",
       "      <td>2021-05-28T10:23:58</td>\n",
       "      <td>...</td>\n",
       "      <td>[{'id': 12, 'created_at': '2020-10-21T06:20:33...</td>\n",
       "      <td>[]</td>\n",
       "      <td>[]</td>\n",
       "      <td>[]</td>\n",
       "      <td>59362.43331018519</td>\n",
       "      <td>{'username': 'sedm-robot', 'first_name': 'SEDm...</td>\n",
       "      <td>29999d1d-f375-4933-809d-60350093e46f</td>\n",
       "      <td>NaN</td>\n",
       "      <td>NaN</td>\n",
       "      <td>NaN</td>\n",
       "    </tr>\n",
       "    <tr>\n",
       "      <th>4</th>\n",
       "      <td>ZTF21aanwbhk</td>\n",
       "      <td>NaN</td>\n",
       "      <td>2348</td>\n",
       "      <td>2021-03-17T14:03:56.951777</td>\n",
       "      <td>NaN</td>\n",
       "      <td>NaN</td>\n",
       "      <td>2021-03-17T14:03:56.951777</td>\n",
       "      <td>ZTF21aanwbhk</td>\n",
       "      <td>{'JD': 2459290.7206854, 'RA': 42818.77, 'ADC':...</td>\n",
       "      <td>2021-03-17T05:17:46</td>\n",
       "      <td>...</td>\n",
       "      <td>[{'id': 12, 'created_at': '2020-10-21T06:20:33...</td>\n",
       "      <td>[]</td>\n",
       "      <td>[]</td>\n",
       "      <td>[]</td>\n",
       "      <td>59290.220671296294</td>\n",
       "      <td>{'username': 'sedm-robot', 'first_name': 'SEDm...</td>\n",
       "      <td>dd9f2a27-e39b-45fc-ad24-9bdcfccd4670</td>\n",
       "      <td>NaN</td>\n",
       "      <td>NaN</td>\n",
       "      <td>NaN</td>\n",
       "    </tr>\n",
       "    <tr>\n",
       "      <th>5</th>\n",
       "      <td>ZTF24aaajtzg</td>\n",
       "      <td>[8.443e-35, 1.215e-32, 1.069e-32, 9.623e-33, 8...</td>\n",
       "      <td>29046</td>\n",
       "      <td>2024-01-13T09:53:13.369385</td>\n",
       "      <td>NaN</td>\n",
       "      <td>NaN</td>\n",
       "      <td>2024-01-13T09:53:13.369385</td>\n",
       "      <td>ZTF24aaajtzg</td>\n",
       "      <td>{'JD': 2460322.8743916, 'RA': 28359.83, 'ADC':...</td>\n",
       "      <td>2024-01-13T08:59:07</td>\n",
       "      <td>...</td>\n",
       "      <td>[{'id': 280, 'created_at': '2021-04-20T17:55:4...</td>\n",
       "      <td>[]</td>\n",
       "      <td>[]</td>\n",
       "      <td>[]</td>\n",
       "      <td>60322.374386574076</td>\n",
       "      <td>{'username': 'sedm-robot', 'first_name': 'SEDm...</td>\n",
       "      <td>cb891f88-0701-42d8-b583-6c24255a9774</td>\n",
       "      <td>NaN</td>\n",
       "      <td>NaN</td>\n",
       "      <td>NaN</td>\n",
       "    </tr>\n",
       "  </tbody>\n",
       "</table>\n",
       "<p>5 rows × 35 columns</p>\n",
       "</div>"
      ],
      "text/plain": [
       "0         ZTFID                                             errors  \\\n",
       "1  ZTF22abfpgcn  [3.819e-34, 3.201e-34, 1.493e-34, 9.351e-32, 7...   \n",
       "2  ZTF21aaqyetj                                                NaN   \n",
       "3  ZTF21aaygqkb                                                NaN   \n",
       "4  ZTF21aanwbhk                                                NaN   \n",
       "5  ZTF24aaajtzg  [8.443e-35, 1.215e-32, 1.069e-32, 9.623e-33, 8...   \n",
       "\n",
       "0 followup_request_id                  created_at units assignment_id  \\\n",
       "1               16946  2022-09-07T11:16:53.599008   NaN           NaN   \n",
       "2                2865  2021-04-20T05:24:50.434325   NaN           NaN   \n",
       "3                3374  2021-05-28T11:21:00.460649   NaN           NaN   \n",
       "4                2348  2021-03-17T14:03:56.951777   NaN           NaN   \n",
       "5               29046  2024-01-13T09:53:13.369385   NaN           NaN   \n",
       "\n",
       "0                    modified        obj_id  \\\n",
       "1  2022-09-07T11:16:53.599008  ZTF22abfpgcn   \n",
       "2  2021-04-20T05:24:50.434325  ZTF21aaqyetj   \n",
       "3  2021-05-28T11:21:00.460649  ZTF21aaygqkb   \n",
       "4  2021-03-17T14:03:56.951777  ZTF21aanwbhk   \n",
       "5  2024-01-13T09:53:13.369385  ZTF24aaajtzg   \n",
       "\n",
       "0                                            altdata          observed_at  \\\n",
       "1  {'JD': 2459829.9428332, 'RA': 19600.12, 'ADC':...  2022-09-07T10:37:40   \n",
       "2  {'JD': 2459324.6918952, 'RA': 33918.65, 'ADC':...  2021-04-20T04:36:18   \n",
       "3  {'JD': 2459362.9333179, 'RA': 85936.18, 'ADC':...  2021-05-28T10:23:58   \n",
       "4  {'JD': 2459290.7206854, 'RA': 42818.77, 'ADC':...  2021-03-17T05:17:46   \n",
       "5  {'JD': 2460322.8743916, 'RA': 28359.83, 'ADC':...  2024-01-13T08:59:07   \n",
       "\n",
       "0  ...                                             groups pis reducers  \\\n",
       "1  ...  [{'id': 12, 'created_at': '2020-10-21T06:20:33...  []       []   \n",
       "2  ...  [{'id': 12, 'created_at': '2020-10-21T06:20:33...  []       []   \n",
       "3  ...  [{'id': 12, 'created_at': '2020-10-21T06:20:33...  []       []   \n",
       "4  ...  [{'id': 12, 'created_at': '2020-10-21T06:20:33...  []       []   \n",
       "5  ...  [{'id': 280, 'created_at': '2021-04-20T17:55:4...  []       []   \n",
       "\n",
       "0 observers     observed_at_mjd  \\\n",
       "1        []  59829.442824074074   \n",
       "2        []        59324.191875   \n",
       "3        []   59362.43331018519   \n",
       "4        []  59290.220671296294   \n",
       "5        []  60322.374386574076   \n",
       "\n",
       "0                                              owner  \\\n",
       "1  {'username': 'sedm-robot', 'first_name': 'SEDm...   \n",
       "2  {'username': 'sedm-robot', 'first_name': 'SEDm...   \n",
       "3  {'username': 'sedm-robot', 'first_name': 'SEDm...   \n",
       "4  {'username': 'sedm-robot', 'first_name': 'SEDm...   \n",
       "5  {'username': 'sedm-robot', 'first_name': 'SEDm...   \n",
       "\n",
       "0                      obj_internal_key external_reducer external_observer  \\\n",
       "1  36b81dbf-18f6-49be-be2e-cdb713badbb5              NaN               NaN   \n",
       "2  58a402af-3650-4992-a84f-cb0f1d80abf6              NaN               NaN   \n",
       "3  29999d1d-f375-4933-809d-60350093e46f              NaN               NaN   \n",
       "4  dd9f2a27-e39b-45fc-ad24-9bdcfccd4670              NaN               NaN   \n",
       "5  cb891f88-0701-42d8-b583-6c24255a9774              NaN               NaN   \n",
       "\n",
       "0 external_pi  \n",
       "1         NaN  \n",
       "2         NaN  \n",
       "3         NaN  \n",
       "4         NaN  \n",
       "5         NaN  \n",
       "\n",
       "[5 rows x 35 columns]"
      ]
     },
     "execution_count": 3,
     "metadata": {},
     "output_type": "execute_result"
    }
   ],
   "source": [
    "# Change first row to column headers\n",
    "df_spectra.columns = df_spectra.iloc[0]\n",
    "\n",
    "# Drop the first row (which is now redundant)\n",
    "df_spectra = df_spectra.drop(0)\n",
    "df_spectra.head()"
   ]
  },
  {
   "cell_type": "code",
   "execution_count": 4,
   "metadata": {},
   "outputs": [
    {
     "data": {
      "text/plain": [
       "Index(['ZTFID', 'errors', 'followup_request_id', 'created_at', 'units',\n",
       "       'assignment_id', 'modified', 'obj_id', 'altdata', 'observed_at',\n",
       "       'original_file_string', 'origin', 'original_file_filename', 'type',\n",
       "       'owner_id', 'fluxes', 'label', 'id', 'wavelengths', 'instrument_id',\n",
       "       'comments', 'annotations', 'instrument_name', 'telescope_id',\n",
       "       'telescope_name', 'groups', 'pis', 'reducers', 'observers',\n",
       "       'observed_at_mjd', 'owner', 'obj_internal_key', 'external_reducer',\n",
       "       'external_observer', 'external_pi'],\n",
       "      dtype='object', name=0)"
      ]
     },
     "execution_count": 4,
     "metadata": {},
     "output_type": "execute_result"
    }
   ],
   "source": [
    "df_spectra.columns"
   ]
  },
  {
   "cell_type": "code",
   "execution_count": 5,
   "metadata": {},
   "outputs": [
    {
     "data": {
      "text/html": [
       "<div>\n",
       "<style scoped>\n",
       "    .dataframe tbody tr th:only-of-type {\n",
       "        vertical-align: middle;\n",
       "    }\n",
       "\n",
       "    .dataframe tbody tr th {\n",
       "        vertical-align: top;\n",
       "    }\n",
       "\n",
       "    .dataframe thead th {\n",
       "        text-align: right;\n",
       "    }\n",
       "</style>\n",
       "<table border=\"1\" class=\"dataframe\">\n",
       "  <thead>\n",
       "    <tr style=\"text-align: right;\">\n",
       "      <th></th>\n",
       "      <th>ZTFID</th>\n",
       "      <th>errors</th>\n",
       "      <th>followup_request_id</th>\n",
       "      <th>created_at</th>\n",
       "      <th>units</th>\n",
       "      <th>assignment_id</th>\n",
       "      <th>modified</th>\n",
       "      <th>obj_id</th>\n",
       "      <th>altdata</th>\n",
       "      <th>observed_at</th>\n",
       "      <th>...</th>\n",
       "      <th>groups</th>\n",
       "      <th>pis</th>\n",
       "      <th>reducers</th>\n",
       "      <th>observers</th>\n",
       "      <th>observed_at_mjd</th>\n",
       "      <th>owner</th>\n",
       "      <th>obj_internal_key</th>\n",
       "      <th>external_reducer</th>\n",
       "      <th>external_observer</th>\n",
       "      <th>external_pi</th>\n",
       "    </tr>\n",
       "  </thead>\n",
       "  <tbody>\n",
       "    <tr>\n",
       "      <th>1</th>\n",
       "      <td>ZTF22abfpgcn</td>\n",
       "      <td>[3.819e-34, 3.201e-34, 1.493e-34, 9.351e-32, 7...</td>\n",
       "      <td>16946</td>\n",
       "      <td>2022-09-07T11:16:53.599008</td>\n",
       "      <td>NaN</td>\n",
       "      <td>NaN</td>\n",
       "      <td>2022-09-07T11:16:53.599008</td>\n",
       "      <td>ZTF22abfpgcn</td>\n",
       "      <td>{'JD': 2459829.9428332, 'RA': 19600.12, 'ADC':...</td>\n",
       "      <td>2022-09-07T10:37:40</td>\n",
       "      <td>...</td>\n",
       "      <td>[{'id': 12, 'created_at': '2020-10-21T06:20:33...</td>\n",
       "      <td>[]</td>\n",
       "      <td>[]</td>\n",
       "      <td>[]</td>\n",
       "      <td>59829.442824074074</td>\n",
       "      <td>{'username': 'sedm-robot', 'first_name': 'SEDm...</td>\n",
       "      <td>36b81dbf-18f6-49be-be2e-cdb713badbb5</td>\n",
       "      <td>NaN</td>\n",
       "      <td>NaN</td>\n",
       "      <td>NaN</td>\n",
       "    </tr>\n",
       "    <tr>\n",
       "      <th>2</th>\n",
       "      <td>ZTF21aaqyetj</td>\n",
       "      <td>NaN</td>\n",
       "      <td>2865</td>\n",
       "      <td>2021-04-20T05:24:50.434325</td>\n",
       "      <td>NaN</td>\n",
       "      <td>NaN</td>\n",
       "      <td>2021-04-20T05:24:50.434325</td>\n",
       "      <td>ZTF21aaqyetj</td>\n",
       "      <td>{'JD': 2459324.6918952, 'RA': 33918.65, 'ADC':...</td>\n",
       "      <td>2021-04-20T04:36:18</td>\n",
       "      <td>...</td>\n",
       "      <td>[{'id': 12, 'created_at': '2020-10-21T06:20:33...</td>\n",
       "      <td>[]</td>\n",
       "      <td>[]</td>\n",
       "      <td>[]</td>\n",
       "      <td>59324.191875</td>\n",
       "      <td>{'username': 'sedm-robot', 'first_name': 'SEDm...</td>\n",
       "      <td>58a402af-3650-4992-a84f-cb0f1d80abf6</td>\n",
       "      <td>NaN</td>\n",
       "      <td>NaN</td>\n",
       "      <td>NaN</td>\n",
       "    </tr>\n",
       "    <tr>\n",
       "      <th>3</th>\n",
       "      <td>ZTF21aaygqkb</td>\n",
       "      <td>NaN</td>\n",
       "      <td>3374</td>\n",
       "      <td>2021-05-28T11:21:00.460649</td>\n",
       "      <td>NaN</td>\n",
       "      <td>NaN</td>\n",
       "      <td>2021-05-28T11:21:00.460649</td>\n",
       "      <td>ZTF21aaygqkb</td>\n",
       "      <td>{'JD': 2459362.9333179, 'RA': 85936.18, 'ADC':...</td>\n",
       "      <td>2021-05-28T10:23:58</td>\n",
       "      <td>...</td>\n",
       "      <td>[{'id': 12, 'created_at': '2020-10-21T06:20:33...</td>\n",
       "      <td>[]</td>\n",
       "      <td>[]</td>\n",
       "      <td>[]</td>\n",
       "      <td>59362.43331018519</td>\n",
       "      <td>{'username': 'sedm-robot', 'first_name': 'SEDm...</td>\n",
       "      <td>29999d1d-f375-4933-809d-60350093e46f</td>\n",
       "      <td>NaN</td>\n",
       "      <td>NaN</td>\n",
       "      <td>NaN</td>\n",
       "    </tr>\n",
       "    <tr>\n",
       "      <th>4</th>\n",
       "      <td>ZTF21aanwbhk</td>\n",
       "      <td>NaN</td>\n",
       "      <td>2348</td>\n",
       "      <td>2021-03-17T14:03:56.951777</td>\n",
       "      <td>NaN</td>\n",
       "      <td>NaN</td>\n",
       "      <td>2021-03-17T14:03:56.951777</td>\n",
       "      <td>ZTF21aanwbhk</td>\n",
       "      <td>{'JD': 2459290.7206854, 'RA': 42818.77, 'ADC':...</td>\n",
       "      <td>2021-03-17T05:17:46</td>\n",
       "      <td>...</td>\n",
       "      <td>[{'id': 12, 'created_at': '2020-10-21T06:20:33...</td>\n",
       "      <td>[]</td>\n",
       "      <td>[]</td>\n",
       "      <td>[]</td>\n",
       "      <td>59290.220671296294</td>\n",
       "      <td>{'username': 'sedm-robot', 'first_name': 'SEDm...</td>\n",
       "      <td>dd9f2a27-e39b-45fc-ad24-9bdcfccd4670</td>\n",
       "      <td>NaN</td>\n",
       "      <td>NaN</td>\n",
       "      <td>NaN</td>\n",
       "    </tr>\n",
       "    <tr>\n",
       "      <th>5</th>\n",
       "      <td>ZTF24aaajtzg</td>\n",
       "      <td>[8.443e-35, 1.215e-32, 1.069e-32, 9.623e-33, 8...</td>\n",
       "      <td>29046</td>\n",
       "      <td>2024-01-13T09:53:13.369385</td>\n",
       "      <td>NaN</td>\n",
       "      <td>NaN</td>\n",
       "      <td>2024-01-13T09:53:13.369385</td>\n",
       "      <td>ZTF24aaajtzg</td>\n",
       "      <td>{'JD': 2460322.8743916, 'RA': 28359.83, 'ADC':...</td>\n",
       "      <td>2024-01-13T08:59:07</td>\n",
       "      <td>...</td>\n",
       "      <td>[{'id': 280, 'created_at': '2021-04-20T17:55:4...</td>\n",
       "      <td>[]</td>\n",
       "      <td>[]</td>\n",
       "      <td>[]</td>\n",
       "      <td>60322.374386574076</td>\n",
       "      <td>{'username': 'sedm-robot', 'first_name': 'SEDm...</td>\n",
       "      <td>cb891f88-0701-42d8-b583-6c24255a9774</td>\n",
       "      <td>NaN</td>\n",
       "      <td>NaN</td>\n",
       "      <td>NaN</td>\n",
       "    </tr>\n",
       "    <tr>\n",
       "      <th>...</th>\n",
       "      <td>...</td>\n",
       "      <td>...</td>\n",
       "      <td>...</td>\n",
       "      <td>...</td>\n",
       "      <td>...</td>\n",
       "      <td>...</td>\n",
       "      <td>...</td>\n",
       "      <td>...</td>\n",
       "      <td>...</td>\n",
       "      <td>...</td>\n",
       "      <td>...</td>\n",
       "      <td>...</td>\n",
       "      <td>...</td>\n",
       "      <td>...</td>\n",
       "      <td>...</td>\n",
       "      <td>...</td>\n",
       "      <td>...</td>\n",
       "      <td>...</td>\n",
       "      <td>...</td>\n",
       "      <td>...</td>\n",
       "      <td>...</td>\n",
       "    </tr>\n",
       "    <tr>\n",
       "      <th>5473</th>\n",
       "      <td>ZTF21achxlkq</td>\n",
       "      <td>[1.531e-32, 1.227e-32, 9.205e-33, 6.487e-33, 6...</td>\n",
       "      <td>5261</td>\n",
       "      <td>2021-10-17T08:49:18.022322</td>\n",
       "      <td>NaN</td>\n",
       "      <td>NaN</td>\n",
       "      <td>2021-10-17T08:49:18.022322</td>\n",
       "      <td>ZTF21achxlkq</td>\n",
       "      <td>{'JD': 2459504.8285633, 'RA': 23138.41, 'ADC':...</td>\n",
       "      <td>2021-10-17T07:53:07</td>\n",
       "      <td>...</td>\n",
       "      <td>[{'id': 12, 'created_at': '2020-10-21T06:20:33...</td>\n",
       "      <td>[]</td>\n",
       "      <td>[]</td>\n",
       "      <td>[]</td>\n",
       "      <td>59504.32855324074</td>\n",
       "      <td>{'username': 'sedm-robot', 'first_name': 'SEDm...</td>\n",
       "      <td>7958bac9-0499-47e0-81f8-946e1b666e9d</td>\n",
       "      <td>NaN</td>\n",
       "      <td>NaN</td>\n",
       "      <td>NaN</td>\n",
       "    </tr>\n",
       "    <tr>\n",
       "      <th>5474</th>\n",
       "      <td>ZTF23aavdzpd</td>\n",
       "      <td>[3.348e-32, 3.456e-32, 3.633e-32, 2.859e-32, 1...</td>\n",
       "      <td>24558</td>\n",
       "      <td>2023-08-05T10:09:30.207475</td>\n",
       "      <td>NaN</td>\n",
       "      <td>NaN</td>\n",
       "      <td>2023-08-05T10:09:30.207475</td>\n",
       "      <td>ZTF23aavdzpd</td>\n",
       "      <td>{'JD': 2460161.8908194, 'RA': 5977.1, 'ADC': '...</td>\n",
       "      <td>2023-08-05T09:22:46</td>\n",
       "      <td>...</td>\n",
       "      <td>[{'id': 12, 'created_at': '2020-10-21T06:20:33...</td>\n",
       "      <td>[]</td>\n",
       "      <td>[]</td>\n",
       "      <td>[]</td>\n",
       "      <td>60161.390810185185</td>\n",
       "      <td>{'username': 'sedm-robot', 'first_name': 'SEDm...</td>\n",
       "      <td>d2d9458d-bf27-43a3-a603-6ea158a51b68</td>\n",
       "      <td>NaN</td>\n",
       "      <td>NaN</td>\n",
       "      <td>NaN</td>\n",
       "    </tr>\n",
       "    <tr>\n",
       "      <th>5475</th>\n",
       "      <td>ZTF23abilcsx</td>\n",
       "      <td>[2.733e-32, 2.166e-32, 1.951e-32, 1.163e-32, 1...</td>\n",
       "      <td>26162</td>\n",
       "      <td>2023-10-09T05:16:47.083407</td>\n",
       "      <td>NaN</td>\n",
       "      <td>NaN</td>\n",
       "      <td>2023-10-09T05:16:47.083407</td>\n",
       "      <td>ZTF23abilcsx</td>\n",
       "      <td>{'JD': 2460226.68778, 'RA': 79178.87, 'ADC': '...</td>\n",
       "      <td>2023-10-09T04:30:24</td>\n",
       "      <td>...</td>\n",
       "      <td>[{'id': 12, 'created_at': '2020-10-21T06:20:33...</td>\n",
       "      <td>[]</td>\n",
       "      <td>[]</td>\n",
       "      <td>[]</td>\n",
       "      <td>60226.18777777778</td>\n",
       "      <td>{'username': 'sedm-robot', 'first_name': 'SEDm...</td>\n",
       "      <td>90295458-df33-47a5-9ba2-92c1fba4830e</td>\n",
       "      <td>NaN</td>\n",
       "      <td>NaN</td>\n",
       "      <td>NaN</td>\n",
       "    </tr>\n",
       "    <tr>\n",
       "      <th>5476</th>\n",
       "      <td>ZTF24aaarmzn</td>\n",
       "      <td>[5.491e-32, 1.07e-31, 3.576e-32, 3.993e-32, 2....</td>\n",
       "      <td>29193</td>\n",
       "      <td>2024-01-17T18:47:25.453549</td>\n",
       "      <td>NaN</td>\n",
       "      <td>NaN</td>\n",
       "      <td>2024-01-17T18:47:25.453549</td>\n",
       "      <td>ZTF24aaarmzn</td>\n",
       "      <td>{'JD': 2460326.8755597, 'RA': 44990.58, 'ADC':...</td>\n",
       "      <td>2024-01-17T09:00:48</td>\n",
       "      <td>...</td>\n",
       "      <td>[{'id': 280, 'created_at': '2021-04-20T17:55:4...</td>\n",
       "      <td>[]</td>\n",
       "      <td>[]</td>\n",
       "      <td>[]</td>\n",
       "      <td>60326.375555555554</td>\n",
       "      <td>{'username': 'sedm-robot', 'first_name': 'SEDm...</td>\n",
       "      <td>1bc947b4-1ce4-49b1-b3e4-aee96c355aa1</td>\n",
       "      <td>NaN</td>\n",
       "      <td>NaN</td>\n",
       "      <td>NaN</td>\n",
       "    </tr>\n",
       "    <tr>\n",
       "      <th>5477</th>\n",
       "      <td>ZTF22abhuvug</td>\n",
       "      <td>[3.898e-33, 1.41e-35, 5.934e-36, 1.396e-36, 3....</td>\n",
       "      <td>17308</td>\n",
       "      <td>2022-09-30T12:10:48.770383</td>\n",
       "      <td>NaN</td>\n",
       "      <td>NaN</td>\n",
       "      <td>2022-09-30T12:10:48.770383</td>\n",
       "      <td>ZTF22abhuvug</td>\n",
       "      <td>{'JD': 2459852.975342, 'RA': 15278.55, 'ADC': ...</td>\n",
       "      <td>2022-09-30T11:24:29</td>\n",
       "      <td>...</td>\n",
       "      <td>[{'id': 12, 'created_at': '2020-10-21T06:20:33...</td>\n",
       "      <td>[]</td>\n",
       "      <td>[]</td>\n",
       "      <td>[]</td>\n",
       "      <td>59852.475335648145</td>\n",
       "      <td>{'username': 'sedm-robot', 'first_name': 'SEDm...</td>\n",
       "      <td>fbcf11fd-b875-44c4-b228-843e099186f9</td>\n",
       "      <td>NaN</td>\n",
       "      <td>NaN</td>\n",
       "      <td>NaN</td>\n",
       "    </tr>\n",
       "  </tbody>\n",
       "</table>\n",
       "<p>5477 rows × 35 columns</p>\n",
       "</div>"
      ],
      "text/plain": [
       "0            ZTFID                                             errors  \\\n",
       "1     ZTF22abfpgcn  [3.819e-34, 3.201e-34, 1.493e-34, 9.351e-32, 7...   \n",
       "2     ZTF21aaqyetj                                                NaN   \n",
       "3     ZTF21aaygqkb                                                NaN   \n",
       "4     ZTF21aanwbhk                                                NaN   \n",
       "5     ZTF24aaajtzg  [8.443e-35, 1.215e-32, 1.069e-32, 9.623e-33, 8...   \n",
       "...            ...                                                ...   \n",
       "5473  ZTF21achxlkq  [1.531e-32, 1.227e-32, 9.205e-33, 6.487e-33, 6...   \n",
       "5474  ZTF23aavdzpd  [3.348e-32, 3.456e-32, 3.633e-32, 2.859e-32, 1...   \n",
       "5475  ZTF23abilcsx  [2.733e-32, 2.166e-32, 1.951e-32, 1.163e-32, 1...   \n",
       "5476  ZTF24aaarmzn  [5.491e-32, 1.07e-31, 3.576e-32, 3.993e-32, 2....   \n",
       "5477  ZTF22abhuvug  [3.898e-33, 1.41e-35, 5.934e-36, 1.396e-36, 3....   \n",
       "\n",
       "0    followup_request_id                  created_at units assignment_id  \\\n",
       "1                  16946  2022-09-07T11:16:53.599008   NaN           NaN   \n",
       "2                   2865  2021-04-20T05:24:50.434325   NaN           NaN   \n",
       "3                   3374  2021-05-28T11:21:00.460649   NaN           NaN   \n",
       "4                   2348  2021-03-17T14:03:56.951777   NaN           NaN   \n",
       "5                  29046  2024-01-13T09:53:13.369385   NaN           NaN   \n",
       "...                  ...                         ...   ...           ...   \n",
       "5473                5261  2021-10-17T08:49:18.022322   NaN           NaN   \n",
       "5474               24558  2023-08-05T10:09:30.207475   NaN           NaN   \n",
       "5475               26162  2023-10-09T05:16:47.083407   NaN           NaN   \n",
       "5476               29193  2024-01-17T18:47:25.453549   NaN           NaN   \n",
       "5477               17308  2022-09-30T12:10:48.770383   NaN           NaN   \n",
       "\n",
       "0                       modified        obj_id  \\\n",
       "1     2022-09-07T11:16:53.599008  ZTF22abfpgcn   \n",
       "2     2021-04-20T05:24:50.434325  ZTF21aaqyetj   \n",
       "3     2021-05-28T11:21:00.460649  ZTF21aaygqkb   \n",
       "4     2021-03-17T14:03:56.951777  ZTF21aanwbhk   \n",
       "5     2024-01-13T09:53:13.369385  ZTF24aaajtzg   \n",
       "...                          ...           ...   \n",
       "5473  2021-10-17T08:49:18.022322  ZTF21achxlkq   \n",
       "5474  2023-08-05T10:09:30.207475  ZTF23aavdzpd   \n",
       "5475  2023-10-09T05:16:47.083407  ZTF23abilcsx   \n",
       "5476  2024-01-17T18:47:25.453549  ZTF24aaarmzn   \n",
       "5477  2022-09-30T12:10:48.770383  ZTF22abhuvug   \n",
       "\n",
       "0                                               altdata          observed_at  \\\n",
       "1     {'JD': 2459829.9428332, 'RA': 19600.12, 'ADC':...  2022-09-07T10:37:40   \n",
       "2     {'JD': 2459324.6918952, 'RA': 33918.65, 'ADC':...  2021-04-20T04:36:18   \n",
       "3     {'JD': 2459362.9333179, 'RA': 85936.18, 'ADC':...  2021-05-28T10:23:58   \n",
       "4     {'JD': 2459290.7206854, 'RA': 42818.77, 'ADC':...  2021-03-17T05:17:46   \n",
       "5     {'JD': 2460322.8743916, 'RA': 28359.83, 'ADC':...  2024-01-13T08:59:07   \n",
       "...                                                 ...                  ...   \n",
       "5473  {'JD': 2459504.8285633, 'RA': 23138.41, 'ADC':...  2021-10-17T07:53:07   \n",
       "5474  {'JD': 2460161.8908194, 'RA': 5977.1, 'ADC': '...  2023-08-05T09:22:46   \n",
       "5475  {'JD': 2460226.68778, 'RA': 79178.87, 'ADC': '...  2023-10-09T04:30:24   \n",
       "5476  {'JD': 2460326.8755597, 'RA': 44990.58, 'ADC':...  2024-01-17T09:00:48   \n",
       "5477  {'JD': 2459852.975342, 'RA': 15278.55, 'ADC': ...  2022-09-30T11:24:29   \n",
       "\n",
       "0     ...                                             groups pis reducers  \\\n",
       "1     ...  [{'id': 12, 'created_at': '2020-10-21T06:20:33...  []       []   \n",
       "2     ...  [{'id': 12, 'created_at': '2020-10-21T06:20:33...  []       []   \n",
       "3     ...  [{'id': 12, 'created_at': '2020-10-21T06:20:33...  []       []   \n",
       "4     ...  [{'id': 12, 'created_at': '2020-10-21T06:20:33...  []       []   \n",
       "5     ...  [{'id': 280, 'created_at': '2021-04-20T17:55:4...  []       []   \n",
       "...   ...                                                ...  ..      ...   \n",
       "5473  ...  [{'id': 12, 'created_at': '2020-10-21T06:20:33...  []       []   \n",
       "5474  ...  [{'id': 12, 'created_at': '2020-10-21T06:20:33...  []       []   \n",
       "5475  ...  [{'id': 12, 'created_at': '2020-10-21T06:20:33...  []       []   \n",
       "5476  ...  [{'id': 280, 'created_at': '2021-04-20T17:55:4...  []       []   \n",
       "5477  ...  [{'id': 12, 'created_at': '2020-10-21T06:20:33...  []       []   \n",
       "\n",
       "0    observers     observed_at_mjd  \\\n",
       "1           []  59829.442824074074   \n",
       "2           []        59324.191875   \n",
       "3           []   59362.43331018519   \n",
       "4           []  59290.220671296294   \n",
       "5           []  60322.374386574076   \n",
       "...        ...                 ...   \n",
       "5473        []   59504.32855324074   \n",
       "5474        []  60161.390810185185   \n",
       "5475        []   60226.18777777778   \n",
       "5476        []  60326.375555555554   \n",
       "5477        []  59852.475335648145   \n",
       "\n",
       "0                                                 owner  \\\n",
       "1     {'username': 'sedm-robot', 'first_name': 'SEDm...   \n",
       "2     {'username': 'sedm-robot', 'first_name': 'SEDm...   \n",
       "3     {'username': 'sedm-robot', 'first_name': 'SEDm...   \n",
       "4     {'username': 'sedm-robot', 'first_name': 'SEDm...   \n",
       "5     {'username': 'sedm-robot', 'first_name': 'SEDm...   \n",
       "...                                                 ...   \n",
       "5473  {'username': 'sedm-robot', 'first_name': 'SEDm...   \n",
       "5474  {'username': 'sedm-robot', 'first_name': 'SEDm...   \n",
       "5475  {'username': 'sedm-robot', 'first_name': 'SEDm...   \n",
       "5476  {'username': 'sedm-robot', 'first_name': 'SEDm...   \n",
       "5477  {'username': 'sedm-robot', 'first_name': 'SEDm...   \n",
       "\n",
       "0                         obj_internal_key external_reducer external_observer  \\\n",
       "1     36b81dbf-18f6-49be-be2e-cdb713badbb5              NaN               NaN   \n",
       "2     58a402af-3650-4992-a84f-cb0f1d80abf6              NaN               NaN   \n",
       "3     29999d1d-f375-4933-809d-60350093e46f              NaN               NaN   \n",
       "4     dd9f2a27-e39b-45fc-ad24-9bdcfccd4670              NaN               NaN   \n",
       "5     cb891f88-0701-42d8-b583-6c24255a9774              NaN               NaN   \n",
       "...                                    ...              ...               ...   \n",
       "5473  7958bac9-0499-47e0-81f8-946e1b666e9d              NaN               NaN   \n",
       "5474  d2d9458d-bf27-43a3-a603-6ea158a51b68              NaN               NaN   \n",
       "5475  90295458-df33-47a5-9ba2-92c1fba4830e              NaN               NaN   \n",
       "5476  1bc947b4-1ce4-49b1-b3e4-aee96c355aa1              NaN               NaN   \n",
       "5477  fbcf11fd-b875-44c4-b228-843e099186f9              NaN               NaN   \n",
       "\n",
       "0    external_pi  \n",
       "1            NaN  \n",
       "2            NaN  \n",
       "3            NaN  \n",
       "4            NaN  \n",
       "5            NaN  \n",
       "...          ...  \n",
       "5473         NaN  \n",
       "5474         NaN  \n",
       "5475         NaN  \n",
       "5476         NaN  \n",
       "5477         NaN  \n",
       "\n",
       "[5477 rows x 35 columns]"
      ]
     },
     "execution_count": 5,
     "metadata": {},
     "output_type": "execute_result"
    }
   ],
   "source": [
    "df_spectra"
   ]
  },
  {
   "cell_type": "code",
   "execution_count": 6,
   "metadata": {},
   "outputs": [
    {
     "data": {
      "text/plain": [
       "type\n",
       "SN Ia            6029\n",
       "-                5343\n",
       "SN II            1267\n",
       "SN IIn            238\n",
       "SN Ia-91T         205\n",
       "SN Ic             164\n",
       "SN Ib             154\n",
       "SN IIb            116\n",
       "SN IIP            114\n",
       "SLSN-I             69\n",
       "SN Ic-BL           66\n",
       "SN Ia-91bg         52\n",
       "TDE                50\n",
       "nova               47\n",
       "SN Ia-pec          41\n",
       "SLSN-II            39\n",
       "SN Ib/c            34\n",
       "SN Ibn             31\n",
       "SN Iax             19\n",
       "SN Ia-CSM          19\n",
       "SN II-pec           9\n",
       "LBV                 6\n",
       "SN Ia-SC            6\n",
       "Other               6\n",
       "SN Ib-pec           5\n",
       "SN Icn              5\n",
       "LRN                 4\n",
       "ILRT                4\n",
       "Ca-rich             3\n",
       "other               2\n",
       "SN IIL              2\n",
       "SN Ca-rich-Ca       2\n",
       "SN IIn-pec          1\n",
       "SN Ic-pec           1\n",
       "Name: count, dtype: int64"
      ]
     },
     "execution_count": 6,
     "metadata": {},
     "output_type": "execute_result"
    }
   ],
   "source": [
    "# Looking at value_counts for SN types before merge\n",
    "df_bts['type'].value_counts()"
   ]
  },
  {
   "cell_type": "code",
   "execution_count": 7,
   "metadata": {},
   "outputs": [
    {
     "data": {
      "text/html": [
       "<div>\n",
       "<style scoped>\n",
       "    .dataframe tbody tr th:only-of-type {\n",
       "        vertical-align: middle;\n",
       "    }\n",
       "\n",
       "    .dataframe tbody tr th {\n",
       "        vertical-align: top;\n",
       "    }\n",
       "\n",
       "    .dataframe thead th {\n",
       "        text-align: right;\n",
       "    }\n",
       "</style>\n",
       "<table border=\"1\" class=\"dataframe\">\n",
       "  <thead>\n",
       "    <tr style=\"text-align: right;\">\n",
       "      <th></th>\n",
       "      <th>ZTFID</th>\n",
       "      <th>IAUID</th>\n",
       "      <th>RA</th>\n",
       "      <th>Dec</th>\n",
       "      <th>peakt</th>\n",
       "      <th>peakfilt</th>\n",
       "      <th>peakmag</th>\n",
       "      <th>peakabs</th>\n",
       "      <th>duration</th>\n",
       "      <th>rise</th>\n",
       "      <th>fade</th>\n",
       "      <th>type</th>\n",
       "      <th>redshift</th>\n",
       "      <th>b</th>\n",
       "      <th>A_V</th>\n",
       "    </tr>\n",
       "  </thead>\n",
       "  <tbody>\n",
       "    <tr>\n",
       "      <th>0</th>\n",
       "      <td>ZTF17aaaeqms</td>\n",
       "      <td>AT2023jkf</td>\n",
       "      <td>01:19:13.43</td>\n",
       "      <td>+31:46:26.1</td>\n",
       "      <td>2102.97</td>\n",
       "      <td>r</td>\n",
       "      <td>17.5839</td>\n",
       "      <td>-</td>\n",
       "      <td>18.001</td>\n",
       "      <td>12.004</td>\n",
       "      <td>5.997</td>\n",
       "      <td>-</td>\n",
       "      <td>-</td>\n",
       "      <td>-30.726791</td>\n",
       "      <td>0.205</td>\n",
       "    </tr>\n",
       "    <tr>\n",
       "      <th>1</th>\n",
       "      <td>ZTF17aaajowi</td>\n",
       "      <td>-</td>\n",
       "      <td>11:47:44.37</td>\n",
       "      <td>+14:34:10.4</td>\n",
       "      <td>1362.73</td>\n",
       "      <td>r</td>\n",
       "      <td>18.9963</td>\n",
       "      <td>-</td>\n",
       "      <td>&gt;5.611</td>\n",
       "      <td>2.651</td>\n",
       "      <td>&gt;2.96</td>\n",
       "      <td>-</td>\n",
       "      <td>-</td>\n",
       "      <td>70.564727</td>\n",
       "      <td>0.127</td>\n",
       "    </tr>\n",
       "    <tr>\n",
       "      <th>2</th>\n",
       "      <td>ZTF17aaanztg</td>\n",
       "      <td>AT2021abaw</td>\n",
       "      <td>10:04:06.59</td>\n",
       "      <td>-01:12:18.6</td>\n",
       "      <td>1501.02</td>\n",
       "      <td>r</td>\n",
       "      <td>18.3035</td>\n",
       "      <td>-</td>\n",
       "      <td>&gt;14.737</td>\n",
       "      <td>&gt;3</td>\n",
       "      <td>11.737</td>\n",
       "      <td>-</td>\n",
       "      <td>-</td>\n",
       "      <td>40.798120</td>\n",
       "      <td>0.210</td>\n",
       "    </tr>\n",
       "    <tr>\n",
       "      <th>3</th>\n",
       "      <td>ZTF17aaaocnx</td>\n",
       "      <td>AT2019dlf</td>\n",
       "      <td>06:12:54.20</td>\n",
       "      <td>+48:49:57.0</td>\n",
       "      <td>584.70</td>\n",
       "      <td>g</td>\n",
       "      <td>17.2290</td>\n",
       "      <td>-</td>\n",
       "      <td>6.213</td>\n",
       "      <td>0.803</td>\n",
       "      <td>5.41</td>\n",
       "      <td>-</td>\n",
       "      <td>-</td>\n",
       "      <td>14.194943</td>\n",
       "      <td>0.407</td>\n",
       "    </tr>\n",
       "    <tr>\n",
       "      <th>4</th>\n",
       "      <td>ZTF17aaaptxx</td>\n",
       "      <td>AT2023gdf</td>\n",
       "      <td>11:54:24.96</td>\n",
       "      <td>+09:36:32.8</td>\n",
       "      <td>2053.73</td>\n",
       "      <td>g</td>\n",
       "      <td>18.9437</td>\n",
       "      <td>-</td>\n",
       "      <td>&gt;2</td>\n",
       "      <td>&gt;2</td>\n",
       "      <td>&gt;0</td>\n",
       "      <td>-</td>\n",
       "      <td>-</td>\n",
       "      <td>67.910221</td>\n",
       "      <td>0.079</td>\n",
       "    </tr>\n",
       "  </tbody>\n",
       "</table>\n",
       "</div>"
      ],
      "text/plain": [
       "          ZTFID       IAUID           RA          Dec    peakt peakfilt  \\\n",
       "0  ZTF17aaaeqms   AT2023jkf  01:19:13.43  +31:46:26.1  2102.97        r   \n",
       "1  ZTF17aaajowi           -  11:47:44.37  +14:34:10.4  1362.73        r   \n",
       "2  ZTF17aaanztg  AT2021abaw  10:04:06.59  -01:12:18.6  1501.02        r   \n",
       "3  ZTF17aaaocnx   AT2019dlf  06:12:54.20  +48:49:57.0   584.70        g   \n",
       "4  ZTF17aaaptxx   AT2023gdf  11:54:24.96  +09:36:32.8  2053.73        g   \n",
       "\n",
       "   peakmag peakabs duration    rise    fade type redshift          b    A_V  \n",
       "0  17.5839       -   18.001  12.004   5.997    -        - -30.726791  0.205  \n",
       "1  18.9963       -   >5.611   2.651   >2.96    -        -  70.564727  0.127  \n",
       "2  18.3035       -  >14.737      >3  11.737    -        -  40.798120  0.210  \n",
       "3  17.2290       -    6.213   0.803    5.41    -        -  14.194943  0.407  \n",
       "4  18.9437       -       >2      >2      >0    -        -  67.910221  0.079  "
      ]
     },
     "execution_count": 7,
     "metadata": {},
     "output_type": "execute_result"
    }
   ],
   "source": [
    "df_bts.head()"
   ]
  },
  {
   "cell_type": "code",
   "execution_count": 8,
   "metadata": {},
   "outputs": [
    {
     "data": {
      "text/plain": [
       "type_x\n",
       "SN Ia            2938\n",
       "-                1147\n",
       "SN II             646\n",
       "SN IIn            121\n",
       "SN Ib              81\n",
       "SN Ic              80\n",
       "SN Ia-91T          70\n",
       "SN IIb             67\n",
       "SN IIP             46\n",
       "SLSN-I             36\n",
       "SN Ic-BL           35\n",
       "TDE                34\n",
       "SN Ia-91bg         26\n",
       "nova               24\n",
       "SN Ia-pec          19\n",
       "SN Ibn             19\n",
       "SN Ib/c            19\n",
       "SN Ia-CSM          13\n",
       "SLSN-II            11\n",
       "SN Iax             10\n",
       "SN II-pec           6\n",
       "SN Ia-SC            6\n",
       "SN Ib-pec           5\n",
       "SN Icn              4\n",
       "Other               4\n",
       "LBV                 3\n",
       "LRN                 2\n",
       "SN Ca-rich-Ca       2\n",
       "other               1\n",
       "SN IIn-pec          1\n",
       "SN Ic-pec           1\n",
       "Name: count, dtype: int64"
      ]
     },
     "execution_count": 8,
     "metadata": {},
     "output_type": "execute_result"
    }
   ],
   "source": [
    "# Merge spectra and bts dataset\n",
    "df_merged = df_bts.merge(df_spectra, on='ZTFID')\n",
    "df_merged.columns\n",
    "\n",
    "# 'type_x' is the label\n",
    "\n",
    "# Looking at value_counts for SN types after merge\n",
    "df_merged['type_x'].value_counts()"
   ]
  },
  {
   "cell_type": "code",
   "execution_count": 9,
   "metadata": {},
   "outputs": [
    {
     "name": "stdout",
     "output_type": "stream",
     "text": [
      "new_type\n",
      "SN Ia    3082\n",
      "other    1124\n",
      "SN Ib     124\n",
      "Name: count, dtype: int64\n"
     ]
    }
   ],
   "source": [
    "# Dropping rows where type = '-'\n",
    "df_merged = df_merged[df_merged['type_x']!='-']\n",
    "\n",
    "# Re-labelling Ia and Ib subtypes\n",
    "df_merged['new_type'] = df_merged['type_x'].apply(lambda x: 'SN Ia' if x.startswith('SN Ia') else ('SN Ib' if x.startswith('SN Ib') else 'other'))\n",
    "\n",
    "# Print the value counts of the new_type column\n",
    "print(df_merged['new_type'].value_counts())"
   ]
  },
  {
   "cell_type": "markdown",
   "metadata": {},
   "source": [
    "## Visualize Data"
   ]
  },
  {
   "cell_type": "code",
   "execution_count": 10,
   "metadata": {},
   "outputs": [],
   "source": [
    "# Create subsets based on SN Ia and SN Ib types\n",
    "\n",
    "df_SNIb = df_merged[df_merged['type_x'] == 'SN Ib']\n",
    "df_SNIa = df_merged[df_merged['type_x'] == 'SN Ia']\n",
    "\n",
    "# Example spectra for SN1a vs SN1b\n",
    "ex_SNIb_flux = df_SNIb['fluxes'].iloc[0]\n",
    "ex_SNIa_flux = df_SNIa['fluxes'].iloc[0]\n",
    "\n",
    "ex_SNIb_wave = df_SNIb['wavelengths'].iloc[0]\n",
    "ex_SNIa_wave = df_SNIa['wavelengths'].iloc[0]"
   ]
  },
  {
   "cell_type": "code",
   "execution_count": 11,
   "metadata": {},
   "outputs": [],
   "source": [
    "# Clean up the data (from string to float)\n",
    "\n",
    "ex_SNIa_flux = np.fromstring(ex_SNIa_flux[2:-2], dtype=float, sep=',')\n",
    "ex_SNIb_flux = np.fromstring(ex_SNIb_flux[2:-2], dtype=float, sep=',')\n",
    "\n",
    "ex_SNIa_wave = np.fromstring(ex_SNIa_wave[2:-2], dtype=float, sep=',')\n",
    "ex_SNIb_wave = np.fromstring(ex_SNIb_wave[2:-2], dtype=float, sep=',')"
   ]
  },
  {
   "cell_type": "code",
   "execution_count": 12,
   "metadata": {},
   "outputs": [
    {
     "data": {
      "text/plain": [
       "Text(0, 0.5, 'Flux')"
      ]
     },
     "execution_count": 12,
     "metadata": {},
     "output_type": "execute_result"
    },
    {
     "data": {
      "image/png": "[encoded data removed]",
      "text/plain": [
       "<Figure size 640x480 with 1 Axes>"
      ]
     },
     "metadata": {},
     "output_type": "display_data"
    }
   ],
   "source": [
    "# Plot example spectra\n",
    "silicon_line = 6150\n",
    "\n",
    "plt.plot(ex_SNIa_wave[2:-2],ex_SNIa_flux[2:-2])\n",
    "plt.axvline(x=silicon_line, color='r', linestyle='--')\n",
    "plt.title('SNIa Flux Example')\n",
    "plt.xlabel('Wavelength')\n",
    "plt.ylabel('Flux')"
   ]
  },
  {
   "cell_type": "code",
   "execution_count": 13,
   "metadata": {},
   "outputs": [
    {
     "data": {
      "text/plain": [
       "(214,)"
      ]
     },
     "execution_count": 13,
     "metadata": {},
     "output_type": "execute_result"
    }
   ],
   "source": [
    "ex_SNIa_wave.shape"
   ]
  },
  {
   "cell_type": "code",
   "execution_count": 14,
   "metadata": {},
   "outputs": [
    {
     "data": {
      "text/plain": [
       "Text(0, 0.5, 'Flux')"
      ]
     },
     "execution_count": 14,
     "metadata": {},
     "output_type": "execute_result"
    },
    {
     "data": {
      "image/png": "[encoded data removed]",
      "text/plain": [
       "<Figure size 640x480 with 1 Axes>"
      ]
     },
     "metadata": {},
     "output_type": "display_data"
    }
   ],
   "source": [
    "# Plot example spectra\n",
    "helium_line = 5876\n",
    "plt.plot(ex_SNIb_wave[2:-2],ex_SNIb_flux[2:-2])\n",
    "plt.axvline(x=helium_line, color='r', linestyle='--')\n",
    "plt.title('SNIb Flux Example')\n",
    "plt.xlabel('Wavelength')\n",
    "plt.ylabel('Flux')"
   ]
  },
  {
   "cell_type": "code",
   "execution_count": 15,
   "metadata": {},
   "outputs": [
    {
     "data": {
      "text/plain": [
       "Index(['ZTFID', 'IAUID', 'RA', 'Dec', 'peakt', 'peakfilt', 'peakmag',\n",
       "       'peakabs', 'duration', 'rise', 'fade', 'type_x', 'redshift', 'b', 'A_V',\n",
       "       'errors', 'followup_request_id', 'created_at', 'units', 'assignment_id',\n",
       "       'modified', 'obj_id', 'altdata', 'observed_at', 'original_file_string',\n",
       "       'origin', 'original_file_filename', 'type_y', 'owner_id', 'fluxes',\n",
       "       'label', 'id', 'wavelengths', 'instrument_id', 'comments',\n",
       "       'annotations', 'instrument_name', 'telescope_id', 'telescope_name',\n",
       "       'groups', 'pis', 'reducers', 'observers', 'observed_at_mjd', 'owner',\n",
       "       'obj_internal_key', 'external_reducer', 'external_observer',\n",
       "       'external_pi', 'new_type'],\n",
       "      dtype='object')"
      ]
     },
     "execution_count": 15,
     "metadata": {},
     "output_type": "execute_result"
    }
   ],
   "source": [
    "df_merged.columns"
   ]
  },
  {
   "cell_type": "markdown",
   "metadata": {},
   "source": [
    "## Feature Extraction: Spectra"
   ]
  },
  {
   "cell_type": "code",
   "execution_count": 16,
   "metadata": {},
   "outputs": [
    {
     "name": "stderr",
     "output_type": "stream",
     "text": [
      "/var/folders/w8/xfh94qvn4mq8ymxk975nyjsm0000gn/T/ipykernel_81205/3973587062.py:13: DeprecationWarning: string or file could not be read to its end due to unmatched data; this will raise a ValueError in the future.\n",
      "  new_flux = np.fromstring(flux[2:-2], dtype=float, sep=',')\n"
     ]
    }
   ],
   "source": [
    "# Feature Extraction of Flux\n",
    "# Extract peak flux value between wavelengths of 5500 and 6000\n",
    "\n",
    "new_flux_col = np.zeros(len(df_merged))\n",
    "new_wavelength_col = np.zeros(len(df_merged))\n",
    "\n",
    "for i in range(len(df_merged)):\n",
    "\n",
    "    wave = df_merged['wavelengths'].iloc[i]\n",
    "    flux = df_merged['fluxes'].iloc[i]\n",
    "\n",
    "    new_wave = np.fromstring(wave[2:-2], dtype=float, sep=',')\n",
    "    new_flux = np.fromstring(flux[2:-2], dtype=float, sep=',')\n",
    "\n",
    "    if len(new_wave)!=len(new_flux):\n",
    "        new_flux_col[i] = np.nan\n",
    "        continue\n",
    "    \n",
    "    # Find indices of wavelengths between 5500 and 6000\n",
    "    indices = np.where((new_wave >= 5500) & (new_wave <= 6000))[0]  # Add [0] to access the array of indices\n",
    "\n",
    "    if len(indices) == 0:\n",
    "        new_flux_col[i] = np.nan\n",
    "        continue\n",
    "    \n",
    "    # Filter flux values within the specified wavelength range\n",
    "    flux_range = new_flux[indices]\n",
    "\n",
    "    # Find the maximum flux value within the range\n",
    "    max_flux = flux_range.max()\n",
    "\n",
    "    new_flux_col[i] = max_flux\n",
    "    \n",
    "\n",
    "df_merged['helium_flux'] = new_flux_col\n",
    "\n",
    "#'helium_flux' is new feature"
   ]
  },
  {
   "cell_type": "code",
   "execution_count": 17,
   "metadata": {},
   "outputs": [
    {
     "data": {
      "text/plain": [
       "new_type\n",
       "SN Ia    3082\n",
       "other    1124\n",
       "SN Ib     124\n",
       "Name: count, dtype: int64"
      ]
     },
     "execution_count": 17,
     "metadata": {},
     "output_type": "execute_result"
    }
   ],
   "source": [
    "df_merged['new_type'].value_counts()"
   ]
  },
  {
   "cell_type": "markdown",
   "metadata": {},
   "source": [
    "## Defining features and labels\n"
   ]
  },
  {
   "cell_type": "code",
   "execution_count": 18,
   "metadata": {},
   "outputs": [
    {
     "name": "stderr",
     "output_type": "stream",
     "text": [
      "/var/folders/w8/xfh94qvn4mq8ymxk975nyjsm0000gn/T/ipykernel_81205/811212763.py:16: SettingWithCopyWarning: \n",
      "A value is trying to be set on a copy of a slice from a DataFrame.\n",
      "Try using .loc[row_indexer,col_indexer] = value instead\n",
      "\n",
      "See the caveats in the documentation: https://pandas.pydata.org/pandas-docs/stable/user_guide/indexing.html#returning-a-view-versus-a-copy\n",
      "  new_data['peakabs'] = pd.to_numeric(new_data['peakabs'], errors='coerce')\n",
      "/var/folders/w8/xfh94qvn4mq8ymxk975nyjsm0000gn/T/ipykernel_81205/811212763.py:17: SettingWithCopyWarning: \n",
      "A value is trying to be set on a copy of a slice from a DataFrame.\n",
      "Try using .loc[row_indexer,col_indexer] = value instead\n",
      "\n",
      "See the caveats in the documentation: https://pandas.pydata.org/pandas-docs/stable/user_guide/indexing.html#returning-a-view-versus-a-copy\n",
      "  new_data['duration'] = new_data['duration'].str.replace('>', '', regex=False)\n",
      "/var/folders/w8/xfh94qvn4mq8ymxk975nyjsm0000gn/T/ipykernel_81205/811212763.py:18: SettingWithCopyWarning: \n",
      "A value is trying to be set on a copy of a slice from a DataFrame.\n",
      "Try using .loc[row_indexer,col_indexer] = value instead\n",
      "\n",
      "See the caveats in the documentation: https://pandas.pydata.org/pandas-docs/stable/user_guide/indexing.html#returning-a-view-versus-a-copy\n",
      "  new_data['redshift'] = pd.to_numeric(new_data['redshift'], errors='coerce')\n",
      "/var/folders/w8/xfh94qvn4mq8ymxk975nyjsm0000gn/T/ipykernel_81205/811212763.py:19: SettingWithCopyWarning: \n",
      "A value is trying to be set on a copy of a slice from a DataFrame.\n",
      "Try using .loc[row_indexer,col_indexer] = value instead\n",
      "\n",
      "See the caveats in the documentation: https://pandas.pydata.org/pandas-docs/stable/user_guide/indexing.html#returning-a-view-versus-a-copy\n",
      "  new_data['b'] = pd.to_numeric(new_data['b'], errors='coerce')\n"
     ]
    }
   ],
   "source": [
    "df_binary = df_merged[(df_merged['new_type'] == 'SN Ia') | (df_merged['new_type'] == 'SN Ib')]\n",
    "\n",
    "# Features for classification - we can change these around\n",
    "# Currently not including the wavelength / flux, but we will see later\n",
    "\n",
    "features = ['peakabs','duration','redshift','b','peakmag']\n",
    "features2 = ['peakabs','duration','redshift','b','peakmag','helium_flux']\n",
    "\n",
    "\n",
    "label = 'new_type'\n",
    "\n",
    "features_label = ['peakabs','duration','redshift','b','peakmag','new_type','helium_flux']\n",
    "\n",
    "\n",
    "new_data = df_binary[features_label]\n",
    "new_data['peakabs'] = pd.to_numeric(new_data['peakabs'], errors='coerce')\n",
    "new_data['duration'] = new_data['duration'].str.replace('>', '', regex=False)\n",
    "new_data['redshift'] = pd.to_numeric(new_data['redshift'], errors='coerce')\n",
    "new_data['b'] = pd.to_numeric(new_data['b'], errors='coerce')\n",
    "#new_data['helium_flux'] = pd.to_numeric(new_data['helium_flux'], errors='coerce')\n",
    "\n",
    "new_data = new_data.dropna()\n",
    "\n",
    "X = new_data[features]\n",
    "y = new_data[label]\n",
    "\n",
    "X2 = new_data[features2]\n",
    "\n"
   ]
  },
  {
   "cell_type": "code",
   "execution_count": 19,
   "metadata": {},
   "outputs": [
    {
     "data": {
      "text/html": [
       "<div>\n",
       "<style scoped>\n",
       "    .dataframe tbody tr th:only-of-type {\n",
       "        vertical-align: middle;\n",
       "    }\n",
       "\n",
       "    .dataframe tbody tr th {\n",
       "        vertical-align: top;\n",
       "    }\n",
       "\n",
       "    .dataframe thead th {\n",
       "        text-align: right;\n",
       "    }\n",
       "</style>\n",
       "<table border=\"1\" class=\"dataframe\">\n",
       "  <thead>\n",
       "    <tr style=\"text-align: right;\">\n",
       "      <th></th>\n",
       "      <th>peakabs</th>\n",
       "      <th>duration</th>\n",
       "      <th>redshift</th>\n",
       "      <th>b</th>\n",
       "      <th>peakmag</th>\n",
       "      <th>helium_flux</th>\n",
       "    </tr>\n",
       "  </thead>\n",
       "  <tbody>\n",
       "    <tr>\n",
       "      <th>2</th>\n",
       "      <td>-19.41</td>\n",
       "      <td>34.229</td>\n",
       "      <td>0.06922</td>\n",
       "      <td>59.641962</td>\n",
       "      <td>18.0303</td>\n",
       "      <td>9.535000e-16</td>\n",
       "    </tr>\n",
       "    <tr>\n",
       "      <th>3</th>\n",
       "      <td>-18.91</td>\n",
       "      <td>8.87</td>\n",
       "      <td>0.07200</td>\n",
       "      <td>-50.332472</td>\n",
       "      <td>18.7979</td>\n",
       "      <td>3.206000e-16</td>\n",
       "    </tr>\n",
       "    <tr>\n",
       "      <th>7</th>\n",
       "      <td>-19.08</td>\n",
       "      <td>18.631</td>\n",
       "      <td>0.07141</td>\n",
       "      <td>52.363911</td>\n",
       "      <td>18.5663</td>\n",
       "      <td>5.245000e-16</td>\n",
       "    </tr>\n",
       "    <tr>\n",
       "      <th>14</th>\n",
       "      <td>-19.34</td>\n",
       "      <td>26.448</td>\n",
       "      <td>0.04077</td>\n",
       "      <td>50.277337</td>\n",
       "      <td>16.9207</td>\n",
       "      <td>8.839000e-16</td>\n",
       "    </tr>\n",
       "    <tr>\n",
       "      <th>20</th>\n",
       "      <td>-18.77</td>\n",
       "      <td>18.513</td>\n",
       "      <td>0.05295</td>\n",
       "      <td>31.693941</td>\n",
       "      <td>18.1923</td>\n",
       "      <td>1.163000e-15</td>\n",
       "    </tr>\n",
       "    <tr>\n",
       "      <th>...</th>\n",
       "      <td>...</td>\n",
       "      <td>...</td>\n",
       "      <td>...</td>\n",
       "      <td>...</td>\n",
       "      <td>...</td>\n",
       "      <td>...</td>\n",
       "    </tr>\n",
       "    <tr>\n",
       "      <th>5463</th>\n",
       "      <td>-17.72</td>\n",
       "      <td>0.02</td>\n",
       "      <td>0.03000</td>\n",
       "      <td>29.134727</td>\n",
       "      <td>17.9994</td>\n",
       "      <td>4.835880e-01</td>\n",
       "    </tr>\n",
       "    <tr>\n",
       "      <th>5468</th>\n",
       "      <td>-19.01</td>\n",
       "      <td>6.949</td>\n",
       "      <td>0.03713</td>\n",
       "      <td>38.055919</td>\n",
       "      <td>17.0986</td>\n",
       "      <td>5.983000e-16</td>\n",
       "    </tr>\n",
       "    <tr>\n",
       "      <th>5470</th>\n",
       "      <td>-19.35</td>\n",
       "      <td>4.427</td>\n",
       "      <td>0.02800</td>\n",
       "      <td>74.701205</td>\n",
       "      <td>16.1524</td>\n",
       "      <td>4.300000e-16</td>\n",
       "    </tr>\n",
       "    <tr>\n",
       "      <th>5474</th>\n",
       "      <td>-18.85</td>\n",
       "      <td>0.05</td>\n",
       "      <td>0.02309</td>\n",
       "      <td>58.194620</td>\n",
       "      <td>16.2495</td>\n",
       "      <td>5.086386e-01</td>\n",
       "    </tr>\n",
       "    <tr>\n",
       "      <th>5475</th>\n",
       "      <td>-19.05</td>\n",
       "      <td>6.136</td>\n",
       "      <td>0.04300</td>\n",
       "      <td>36.397776</td>\n",
       "      <td>17.5524</td>\n",
       "      <td>6.623123e-01</td>\n",
       "    </tr>\n",
       "  </tbody>\n",
       "</table>\n",
       "<p>3184 rows × 6 columns</p>\n",
       "</div>"
      ],
      "text/plain": [
       "      peakabs duration  redshift          b  peakmag   helium_flux\n",
       "2      -19.41   34.229   0.06922  59.641962  18.0303  9.535000e-16\n",
       "3      -18.91     8.87   0.07200 -50.332472  18.7979  3.206000e-16\n",
       "7      -19.08   18.631   0.07141  52.363911  18.5663  5.245000e-16\n",
       "14     -19.34   26.448   0.04077  50.277337  16.9207  8.839000e-16\n",
       "20     -18.77   18.513   0.05295  31.693941  18.1923  1.163000e-15\n",
       "...       ...      ...       ...        ...      ...           ...\n",
       "5463   -17.72     0.02   0.03000  29.134727  17.9994  4.835880e-01\n",
       "5468   -19.01    6.949   0.03713  38.055919  17.0986  5.983000e-16\n",
       "5470   -19.35    4.427   0.02800  74.701205  16.1524  4.300000e-16\n",
       "5474   -18.85     0.05   0.02309  58.194620  16.2495  5.086386e-01\n",
       "5475   -19.05    6.136   0.04300  36.397776  17.5524  6.623123e-01\n",
       "\n",
       "[3184 rows x 6 columns]"
      ]
     },
     "execution_count": 19,
     "metadata": {},
     "output_type": "execute_result"
    }
   ],
   "source": [
    "X2"
   ]
  },
  {
   "cell_type": "markdown",
   "metadata": {},
   "source": [
    "## Check for Correlation and VIF"
   ]
  },
  {
   "cell_type": "code",
   "execution_count": 20,
   "metadata": {},
   "outputs": [
    {
     "data": {
      "image/png": "[encoded data removed]",
      "text/plain": [
       "<Figure size 1000x800 with 2 Axes>"
      ]
     },
     "metadata": {},
     "output_type": "display_data"
    }
   ],
   "source": [
    "correlation_matrix = X.corr()\n",
    "\n",
    "# Plot heatmap\n",
    "plt.figure(figsize=(10, 8))\n",
    "sns.heatmap(correlation_matrix, annot=True, cmap='coolwarm', fmt=\".2f\", linewidths=0.5)\n",
    "plt.title('Correlation Matrix of Features')\n",
    "plt.show()"
   ]
  },
  {
   "cell_type": "code",
   "execution_count": 21,
   "metadata": {},
   "outputs": [
    {
     "name": "stdout",
     "output_type": "stream",
     "text": [
      "VIF Values:\n",
      "    feature         VIF\n",
      "0   peakabs  335.688194\n",
      "1  duration    2.145666\n",
      "2  redshift    8.480223\n",
      "3         b    1.109361\n",
      "4   peakmag  350.133697\n"
     ]
    }
   ],
   "source": [
    "from statsmodels.stats.outliers_influence import variance_inflation_factor\n",
    "\n",
    "X_numeric = X.apply(pd.to_numeric, errors='coerce')\n",
    "\n",
    "X_numeric = X_numeric.dropna()\n",
    "\n",
    "vif_data = pd.DataFrame() \n",
    "vif_data[\"feature\"] = X_numeric.columns \n",
    "vif_data[\"VIF\"] = [variance_inflation_factor(X_numeric.values, i) for i in range(len(X_numeric.columns))] \n",
    "\n",
    "print(\"VIF Values:\")\n",
    "print(vif_data)\n",
    "\n",
    "# maybe remove peakmag since VIF is high and it has high correlation with redshift"
   ]
  },
  {
   "cell_type": "markdown",
   "metadata": {},
   "source": [
    "## Oversampling "
   ]
  },
  {
   "cell_type": "code",
   "execution_count": 22,
   "metadata": {},
   "outputs": [],
   "source": [
    "import imblearn\n",
    "from imblearn.over_sampling import RandomOverSampler\n",
    "\n",
    "oversample = RandomOverSampler(sampling_strategy='minority')"
   ]
  },
  {
   "cell_type": "code",
   "execution_count": 23,
   "metadata": {},
   "outputs": [],
   "source": [
    "X_over, y_over = oversample.fit_resample(X, y)"
   ]
  },
  {
   "cell_type": "code",
   "execution_count": 24,
   "metadata": {},
   "outputs": [
    {
     "data": {
      "text/plain": [
       "new_type\n",
       "SN Ia    3067\n",
       "SN Ib    3067\n",
       "Name: count, dtype: int64"
      ]
     },
     "execution_count": 24,
     "metadata": {},
     "output_type": "execute_result"
    }
   ],
   "source": [
    "# Oversampled data now has equal counts of Ia and Ib\n",
    "y_over.value_counts()"
   ]
  },
  {
   "cell_type": "markdown",
   "metadata": {},
   "source": [
    "## SVM"
   ]
  },
  {
   "cell_type": "code",
   "execution_count": 25,
   "metadata": {},
   "outputs": [
    {
     "name": "stdout",
     "output_type": "stream",
     "text": [
      "Classification Report:\n",
      "              precision    recall  f1-score   support\n",
      "\n",
      "       SN Ia       0.84      0.93      0.89       627\n",
      "       SN Ib       0.92      0.82      0.87       600\n",
      "\n",
      "    accuracy                           0.88      1227\n",
      "   macro avg       0.88      0.88      0.88      1227\n",
      "weighted avg       0.88      0.88      0.88      1227\n",
      "\n"
     ]
    }
   ],
   "source": [
    "from sklearn.model_selection import train_test_split\n",
    "from sklearn.svm import SVC\n",
    "from sklearn.metrics import classification_report\n",
    "\n",
    "# Step 1: Split data into training and testing sets\n",
    "X_train, X_test, y_train, y_test = train_test_split(X_over, y_over, test_size=0.2, random_state=42)\n",
    "\n",
    "# Step 2: Initialize and train SVM classifier\n",
    "svm_classifier = SVC(kernel='linear', random_state=42, probability=True)  # You can choose different kernels based on your data\n",
    "svm_classifier.fit(X_train, y_train)\n",
    "\n",
    "# Step 3: Make predictions\n",
    "y_pred = svm_classifier.predict(X_test)\n",
    "\n",
    "# Step 4: Evaluate model performance\n",
    "print(\"Classification Report:\")\n",
    "print(classification_report(y_test, y_pred))"
   ]
  },
  {
   "cell_type": "code",
   "execution_count": 61,
   "metadata": {},
   "outputs": [
    {
     "name": "stderr",
     "output_type": "stream",
     "text": [
      "No artists with labels found to put in legend.  Note that artists whose label start with an underscore are ignored when legend() is called with no argument.\n"
     ]
    },
    {
     "name": "stdout",
     "output_type": "stream",
     "text": [
      "Area under ROC curve (AUC): 0.8616\n"
     ]
    },
    {
     "data": {
      "image/png": "[encoded data removed]",
      "text/plain": [
       "<Figure size 640x480 with 2 Axes>"
      ]
     },
     "metadata": {},
     "output_type": "display_data"
    },
    {
     "data": {
      "image/png": "[encoded data removed]",
      "text/plain": [
       "<Figure size 640x480 with 1 Axes>"
      ]
     },
     "metadata": {},
     "output_type": "display_data"
    }
   ],
   "source": [
    "from sklearn.metrics import confusion_matrix\n",
    "import seaborn as sns\n",
    "from sklearn.metrics import roc_curve, RocCurveDisplay, auc\n",
    "\n",
    "cf_matrix = confusion_matrix(y_test, y_pred)\n",
    "cf_matrix\n",
    "\n",
    "sns.heatmap(pd.DataFrame(cf_matrix), annot=True, cmap=\"inferno\" ,fmt='g')\n",
    "plt.title('Confusion matrix')\n",
    "plt.ylabel('Actual label')\n",
    "plt.xlabel('Predicted label')\n",
    "\n",
    "y_prob = svm_classifier.predict_proba(X_test)\n",
    "y_prob = y_prob[:, 1]\n",
    "fpr, tpr, other = roc_curve(y_test, y_prob, pos_label = 'SN Ib')\n",
    "\n",
    "roc_display = RocCurveDisplay(fpr=fpr, tpr=tpr)\n",
    "roc_display.plot()\n",
    "\n",
    "roc_auc = auc(fpr, tpr)\n",
    "print(\"Area under ROC curve (AUC): {:.4f}\".format(roc_auc))"
   ]
  },
  {
   "cell_type": "markdown",
   "metadata": {},
   "source": [
    " Using just 'peakabs', 'peakmag', 'duration', 'redshift', 'b' as features, we have okay classification abilities. Let's see how this improved when we add in the spectra information"
   ]
  },
  {
   "cell_type": "code",
   "execution_count": 26,
   "metadata": {},
   "outputs": [
    {
     "name": "stdout",
     "output_type": "stream",
     "text": [
      "Classification Report:\n",
      "              precision    recall  f1-score   support\n",
      "\n",
      "       SN Ia       0.85      0.93      0.89       627\n",
      "       SN Ib       0.92      0.82      0.87       600\n",
      "\n",
      "    accuracy                           0.88      1227\n",
      "   macro avg       0.88      0.88      0.88      1227\n",
      "weighted avg       0.88      0.88      0.88      1227\n",
      "\n"
     ]
    }
   ],
   "source": [
    "# Adding Helium Line info as a feature\n",
    "\n",
    "X2_over, y_over = oversample.fit_resample(X2, y)\n",
    "\n",
    "# Step 1: Split data into training and testing sets\n",
    "X2_train, X2_test, y_train, y_test = train_test_split(X2_over, y_over, test_size=0.2, random_state=42)\n",
    "\n",
    "# Step 2: Initialize and train SVM classifier\n",
    "svm_classifier = SVC(kernel='linear', random_state=42, probability=True)  # You can choose different kernels based on your data\n",
    "svm_classifier.fit(X2_train, y_train)\n",
    "\n",
    "# Step 3: Make predictions\n",
    "y_pred = svm_classifier.predict(X2_test)\n",
    "\n",
    "# Step 4: Evaluate model performance\n",
    "print(\"Classification Report:\")\n",
    "print(classification_report(y_test, y_pred))"
   ]
  },
  {
   "cell_type": "code",
   "execution_count": 63,
   "metadata": {},
   "outputs": [
    {
     "name": "stderr",
     "output_type": "stream",
     "text": [
      "No artists with labels found to put in legend.  Note that artists whose label start with an underscore are ignored when legend() is called with no argument.\n"
     ]
    },
    {
     "name": "stdout",
     "output_type": "stream",
     "text": [
      "Area under ROC curve (AUC): 0.8933\n"
     ]
    },
    {
     "data": {
      "image/png": "[encoded data removed]",
      "text/plain": [
       "<Figure size 640x480 with 2 Axes>"
      ]
     },
     "metadata": {},
     "output_type": "display_data"
    },
    {
     "data": {
      "image/png": "[encoded data removed]",
      "text/plain": [
       "<Figure size 640x480 with 1 Axes>"
      ]
     },
     "metadata": {},
     "output_type": "display_data"
    }
   ],
   "source": [
    "cf_matrix = confusion_matrix(y_test, y_pred)\n",
    "cf_matrix\n",
    "\n",
    "sns.heatmap(pd.DataFrame(cf_matrix), annot=True, cmap=\"inferno\" ,fmt='g')\n",
    "plt.title('Confusion matrix')\n",
    "plt.ylabel('Actual label')\n",
    "plt.xlabel('Predicted label')\n",
    "\n",
    "y_prob = svm_classifier.predict_proba(X2_test)\n",
    "y_prob = y_prob[:, 1]\n",
    "fpr, tpr, other = roc_curve(y_test, y_prob, pos_label = 'SN Ib')\n",
    "\n",
    "roc_display = RocCurveDisplay(fpr=fpr, tpr=tpr)\n",
    "roc_display.plot()\n",
    "\n",
    "roc_auc = auc(fpr, tpr)\n",
    "print(\"Area under ROC curve (AUC): {:.4f}\".format(roc_auc))"
   ]
  },
  {
   "cell_type": "code",
   "execution_count": 85,
   "metadata": {},
   "outputs": [
    {
     "name": "stderr",
     "output_type": "stream",
     "text": [
      "/var/folders/nv/zss1vllj0ng4zcrk888wbjh80000gn/T/ipykernel_5908/373057004.py:20: SettingWithCopyWarning: \n",
      "A value is trying to be set on a copy of a slice from a DataFrame.\n",
      "Try using .loc[row_indexer,col_indexer] = value instead\n",
      "\n",
      "See the caveats in the documentation: https://pandas.pydata.org/pandas-docs/stable/user_guide/indexing.html#returning-a-view-versus-a-copy\n",
      "  new_data['peakabs'] = pd.to_numeric(new_data['peakabs'], errors='coerce')\n",
      "/var/folders/nv/zss1vllj0ng4zcrk888wbjh80000gn/T/ipykernel_5908/373057004.py:21: SettingWithCopyWarning: \n",
      "A value is trying to be set on a copy of a slice from a DataFrame.\n",
      "Try using .loc[row_indexer,col_indexer] = value instead\n",
      "\n",
      "See the caveats in the documentation: https://pandas.pydata.org/pandas-docs/stable/user_guide/indexing.html#returning-a-view-versus-a-copy\n",
      "  new_data['duration'] = new_data['duration'].str.replace('>', '', regex=False)\n",
      "/var/folders/nv/zss1vllj0ng4zcrk888wbjh80000gn/T/ipykernel_5908/373057004.py:22: SettingWithCopyWarning: \n",
      "A value is trying to be set on a copy of a slice from a DataFrame.\n",
      "Try using .loc[row_indexer,col_indexer] = value instead\n",
      "\n",
      "See the caveats in the documentation: https://pandas.pydata.org/pandas-docs/stable/user_guide/indexing.html#returning-a-view-versus-a-copy\n",
      "  new_data['redshift'] = pd.to_numeric(new_data['redshift'], errors='coerce')\n",
      "/var/folders/nv/zss1vllj0ng4zcrk888wbjh80000gn/T/ipykernel_5908/373057004.py:23: SettingWithCopyWarning: \n",
      "A value is trying to be set on a copy of a slice from a DataFrame.\n",
      "Try using .loc[row_indexer,col_indexer] = value instead\n",
      "\n",
      "See the caveats in the documentation: https://pandas.pydata.org/pandas-docs/stable/user_guide/indexing.html#returning-a-view-versus-a-copy\n",
      "  new_data['b'] = pd.to_numeric(new_data['b'], errors='coerce')\n"
     ]
    },
    {
     "data": {
      "text/plain": [
       "new_type\n",
       "SN Ia    3067\n",
       "other    3000\n",
       "SN Ib    3000\n",
       "Name: count, dtype: int64"
      ]
     },
     "execution_count": 85,
     "metadata": {},
     "output_type": "execute_result"
    }
   ],
   "source": [
    "# Adding remaining SN as other\n",
    "# Drop rows with missing values\n",
    "\n",
    "from imblearn.over_sampling import RandomOverSampler\n",
    "\n",
    "#df_binary = df_merged[(df_merged['new_type'] == 'SN Ia') | (df_merged['new_type'] == 'SN Ib')]\n",
    "\n",
    "# Features for classification - we can change these around\n",
    "# Currently not including the wavelength / flux, but we will see later\n",
    "\n",
    "features = ['peakabs','duration','redshift','b','peakmag']\n",
    "features2 = ['peakabs','duration','redshift','b','peakmag','helium_flux']\n",
    "\n",
    "label = 'new_type'\n",
    "\n",
    "features_label = ['peakabs','duration','redshift','b','peakmag','new_type','helium_flux']\n",
    "\n",
    "new_data = df_merged[features_label]\n",
    "\n",
    "new_data['peakabs'] = pd.to_numeric(new_data['peakabs'], errors='coerce')\n",
    "new_data['duration'] = new_data['duration'].str.replace('>', '', regex=False)\n",
    "new_data['redshift'] = pd.to_numeric(new_data['redshift'], errors='coerce')\n",
    "new_data['b'] = pd.to_numeric(new_data['b'], errors='coerce')\n",
    "#new_data['helium_flux'] = pd.to_numeric(new_data['helium_flux'], errors='coerce')\n",
    "\n",
    "new_data = new_data.dropna()\n",
    "\n",
    "X = new_data[features]\n",
    "y = new_data[label]\n",
    "\n",
    "X2 = new_data[features2]\n",
    "\n",
    "new_data = new_data.dropna()\n",
    "\n",
    "# separating out SN Ia and SN Ib and labeling the others as \"other\"\n",
    "#new_data.loc[~new_data['new_type'].isin(['SN Ia', 'SN Ib']), 'new_type'] = 'other'\n",
    "\n",
    "sampling_strategy = {'SN Ib': 3000, 'other': 3000}\n",
    "\n",
    "oversample = RandomOverSampler(sampling_strategy=sampling_strategy)\n",
    "\n",
    "X2_over, y_over = oversample.fit_resample(X2, y)\n",
    "\n",
    "y_over.value_counts()"
   ]
  },
  {
   "cell_type": "code",
   "execution_count": 90,
   "metadata": {},
   "outputs": [
    {
     "name": "stdout",
     "output_type": "stream",
     "text": [
      "Accuracy: 0.7149944873208379\n",
      "Classification Report:\n",
      "               precision    recall  f1-score   support\n",
      "\n",
      "       SN Ia       0.74      0.92      0.82       630\n",
      "       SN Ib       0.64      0.75      0.69       615\n",
      "       other       0.80      0.44      0.57       569\n",
      "\n",
      "    accuracy                           0.71      1814\n",
      "   macro avg       0.73      0.71      0.70      1814\n",
      "weighted avg       0.73      0.71      0.70      1814\n",
      "\n"
     ]
    }
   ],
   "source": [
    "\n",
    "from sklearn.svm import SVC\n",
    "from sklearn.metrics import accuracy_score, classification_report\n",
    "\n",
    "X2_train, X2_test, y_train, y_test = train_test_split(X2_over, y_over, test_size=0.2, random_state=42)\n",
    "\n",
    "# Create SVM classifier\n",
    "svm_classifier = SVC(kernel='linear', decision_function_shape='ovr', probability=True)  # Use 'ovr' for One-vs-Rest\n",
    "\n",
    "# Train the classifier\n",
    "svm_classifier.fit(X2_train, y_train)\n",
    "\n",
    "# Predict the labels for test set\n",
    "y_pred = svm_classifier.predict(X2_test)\n",
    "y_prob = svm_classifier.predict_proba(X2_test)\n",
    "y_prob = y_prob[:, 1]\n",
    "\n",
    "# Calculate accuracy\n",
    "accuracy = accuracy_score(y_test, y_pred)\n",
    "print(\"Accuracy:\", accuracy)\n",
    "\n",
    "# Generate classification report\n",
    "report = classification_report(y_test, y_pred)\n",
    "print(\"Classification Report:\\n\", report)"
   ]
  },
  {
   "cell_type": "code",
   "execution_count": 91,
   "metadata": {},
   "outputs": [
    {
     "name": "stderr",
     "output_type": "stream",
     "text": [
      "No artists with labels found to put in legend.  Note that artists whose label start with an underscore are ignored when legend() is called with no argument.\n",
      "No artists with labels found to put in legend.  Note that artists whose label start with an underscore are ignored when legend() is called with no argument.\n"
     ]
    },
    {
     "name": "stdout",
     "output_type": "stream",
     "text": [
      "Area under ROC curve (AUC): 0.7757\n"
     ]
    },
    {
     "data": {
      "image/png": "[encoded data removed]",
      "text/plain": [
       "<Figure size 640x480 with 2 Axes>"
      ]
     },
     "metadata": {},
     "output_type": "display_data"
    },
    {
     "data": {
      "image/png": "[encoded data removed]",
      "text/plain": [
       "<Figure size 640x480 with 1 Axes>"
      ]
     },
     "metadata": {},
     "output_type": "display_data"
    }
   ],
   "source": [
    "cf_matrix = confusion_matrix(y_test, y_pred)\n",
    "\n",
    "sns.heatmap(pd.DataFrame(cf_matrix), annot=True, cmap=\"inferno\" ,fmt='g')\n",
    "plt.title('Confusion matrix')\n",
    "plt.ylabel('Actual label')\n",
    "plt.xlabel('Predicted label')\n",
    "plt.legend()\n",
    "\n",
    "fpr, tpr, _ = roc_curve(y_test, y_prob, pos_label = 'SN Ib')\n",
    "\n",
    "roc_display = RocCurveDisplay(fpr=fpr, tpr=tpr)\n",
    "roc_display.plot()\n",
    "\n",
    "roc_auc = auc(fpr, tpr)\n",
    "print(\"Area under ROC curve (AUC): {:.4f}\".format(roc_auc))"
   ]
  },
  {
   "cell_type": "markdown",
   "metadata": {},
   "source": [
    "## Logistic Regression"
   ]
  },
  {
   "cell_type": "markdown",
   "metadata": {},
   "source": [
    "This is for SN Ia vs. SN Ib"
   ]
  },
  {
   "cell_type": "code",
   "execution_count": null,
   "metadata": {},
   "outputs": [
    {
     "name": "stderr",
     "output_type": "stream",
     "text": [
      "No artists with labels found to put in legend.  Note that artists whose label start with an underscore are ignored when legend() is called with no argument.\n",
      "No artists with labels found to put in legend.  Note that artists whose label start with an underscore are ignored when legend() is called with no argument.\n"
     ]
    },
    {
     "name": "stdout",
     "output_type": "stream",
     "text": [
      "Cross-Validation Scores: [0.87576375 0.86558045 0.86761711 0.85743381 0.87169043 0.83095723\n",
      " 0.86761711 0.85510204 0.85918367 0.85714286]\n",
      "Area under ROC curve (AUC): 0.8809\n"
     ]
    },
    {
     "data": {
      "image/png": "[encoded data removed]",
      "text/plain": [
       "<Figure size 640x480 with 2 Axes>"
      ]
     },
     "metadata": {},
     "output_type": "display_data"
    },
    {
     "data": {
      "image/png": "[encoded data removed]",
      "text/plain": [
       "<Figure size 640x480 with 1 Axes>"
      ]
     },
     "metadata": {},
     "output_type": "display_data"
    }
   ],
   "source": [
    "from sklearn.linear_model import LogisticRegression\n",
    "from sklearn.preprocessing import StandardScaler\n",
    "from sklearn.metrics import confusion_matrix\n",
    "import seaborn as sns\n",
    "from sklearn.metrics import roc_curve, RocCurveDisplay, auc\n",
    "from sklearn.model_selection import cross_val_score\n",
    "\n",
    "# using the same split that Abby used above\n",
    "model = LogisticRegression()\n",
    "model.fit(X_train, y_train)\n",
    "\n",
    "y_pred = model.predict(X_test)\n",
    "y_prob = model.predict_proba(X_test)\n",
    "y_prob = y_prob[:, 1]\n",
    "\n",
    "cf_matrix = confusion_matrix(y_test, y_pred)\n",
    "\n",
    "cv_scores = cross_val_score(model, X_train, y_train, cv=10, scoring='accuracy')\n",
    "\n",
    "print(\"Cross-Validation Scores:\", cv_scores)\n",
    "\n",
    "sns.heatmap(pd.DataFrame(cf_matrix), annot=True, cmap=\"inferno\" ,fmt='g')\n",
    "plt.title('Confusion matrix')\n",
    "plt.ylabel('Actual label')\n",
    "plt.xlabel('Predicted label')\n",
    "plt.legend()\n",
    "\n",
    "# not recognizing my pos_label argument idk why\n",
    "fpr, tpr, _ = roc_curve(y_test, y_prob, pos_label = 'SN Ib')\n",
    "\n",
    "roc_display = RocCurveDisplay(fpr=fpr, tpr=tpr)\n",
    "roc_display.plot()\n",
    "\n",
    "roc_auc = auc(fpr, tpr)\n",
    "print(\"Area under ROC curve (AUC): {:.4f}\".format(roc_auc))"
   ]
  },
  {
   "cell_type": "markdown",
   "metadata": {},
   "source": [
    "Simple Logistic regreesion with CV = 10 (this didn't change anything)\n",
    "\n"
   ]
  },
  {
   "cell_type": "markdown",
   "metadata": {},
   "source": [
    "## Multinomial Logistic"
   ]
  },
  {
   "cell_type": "code",
   "execution_count": null,
   "metadata": {},
   "outputs": [],
   "source": [
    "# data preprocessing \n",
    "\n",
    "df_multinomial = df_merged.copy()\n",
    "\n",
    "features = ['peakabs', 'duration', 'redshift', 'b'] # removed peakmag here but honestly didn't change much\n",
    "label = 'new_type'\n",
    "\n",
    "# Define features and label columns\n",
    "features_label = ['peakabs', 'duration', 'redshift', 'b', 'peakmag', 'new_type']\n",
    "\n",
    "# Extract relevant data\n",
    "new_data = df_multinomial[features_label].copy()\n",
    "\n",
    "# Preprocess data\n",
    "new_data['peakabs'] = pd.to_numeric(new_data['peakabs'], errors='coerce')\n",
    "new_data['duration'] = new_data['duration'].str.replace('>', '', regex=False)\n",
    "new_data['redshift'] = pd.to_numeric(new_data['redshift'], errors='coerce')\n",
    "new_data['b'] = pd.to_numeric(new_data['b'], errors='coerce')\n",
    "\n",
    "# Drop rows with missing values\n",
    "new_data = new_data.dropna()\n",
    "\n",
    "# separating out SN Ia and SN Ib and labeling the others as \"other\"\n",
    "new_data.loc[~new_data['new_type'].isin(['SN Ia', 'SN Ib']), 'new_type'] = 'other'\n",
    "\n",
    "X = new_data[features]\n",
    "y = new_data[label]"
   ]
  },
  {
   "cell_type": "code",
   "execution_count": null,
   "metadata": {},
   "outputs": [
    {
     "data": {
      "text/plain": [
       "new_type\n",
       "SN Ia    3067\n",
       "other    1079\n",
       "SN Ib     117\n",
       "Name: count, dtype: int64"
      ]
     },
     "execution_count": 156,
     "metadata": {},
     "output_type": "execute_result"
    }
   ],
   "source": [
    "y.value_counts()"
   ]
  },
  {
   "cell_type": "code",
   "execution_count": null,
   "metadata": {},
   "outputs": [
    {
     "data": {
      "text/plain": [
       "new_type\n",
       "SN Ia    3067\n",
       "other    3000\n",
       "SN Ib    3000\n",
       "Name: count, dtype: int64"
      ]
     },
     "execution_count": 157,
     "metadata": {},
     "output_type": "execute_result"
    }
   ],
   "source": [
    "# oversample\n",
    "from imblearn.over_sampling import RandomOverSampler\n",
    "\n",
    "sampling_strategy = {'SN Ib': 3000, 'other': 3000}\n",
    "\n",
    "oversample = RandomOverSampler(sampling_strategy=sampling_strategy)\n",
    "\n",
    "X_over, y_over = oversample.fit_resample(X, y)\n",
    "\n",
    "y_over.value_counts()"
   ]
  },
  {
   "cell_type": "code",
   "execution_count": null,
   "metadata": {},
   "outputs": [
    {
     "name": "stderr",
     "output_type": "stream",
     "text": [
      "No artists with labels found to put in legend.  Note that artists whose label start with an underscore are ignored when legend() is called with no argument.\n",
      "No artists with labels found to put in legend.  Note that artists whose label start with an underscore are ignored when legend() is called with no argument.\n"
     ]
    },
    {
     "name": "stdout",
     "output_type": "stream",
     "text": [
      "Cross-Validation Scores: [0.69146006 0.66666667 0.70385675 0.68689655 0.66758621 0.67172414\n",
      " 0.68413793 0.70206897 0.68689655 0.66068966]\n",
      "Area under ROC curve (AUC): 0.7760\n"
     ]
    },
    {
     "data": {
      "image/png": "[encoded data removed]",
      "text/plain": [
       "<Figure size 640x480 with 2 Axes>"
      ]
     },
     "metadata": {},
     "output_type": "display_data"
    },
    {
     "data": {
      "image/png": "[encoded data removed]",
      "text/plain": [
       "<Figure size 640x480 with 1 Axes>"
      ]
     },
     "metadata": {},
     "output_type": "display_data"
    }
   ],
   "source": [
    "from sklearn.model_selection import cross_val_score\n",
    "\n",
    "# Step 1: Split data into training and testing sets\n",
    "X_train, X_test, y_train, y_test = train_test_split(X_over, y_over, test_size=0.2, random_state=42)\n",
    "\n",
    "model = LogisticRegression(multi_class='multinomial', solver = 'lbfgs', max_iter=10000)\n",
    "\n",
    "model.fit(X_train, y_train)\n",
    "\n",
    "y_pred = model.predict(X_test)\n",
    "y_prob = model.predict_proba(X_test)\n",
    "y_prob = y_prob[:, 1]\n",
    "\n",
    "cv_scores = cross_val_score(model, X_train, y_train, cv=10, scoring='accuracy')\n",
    "\n",
    "print(\"Cross-Validation Scores:\", cv_scores)\n",
    "\n",
    "cf_matrix = confusion_matrix(y_test, y_pred)\n",
    "\n",
    "sns.heatmap(pd.DataFrame(cf_matrix), annot=True, cmap=\"inferno\" ,fmt='g')\n",
    "plt.title('Confusion matrix')\n",
    "plt.ylabel('Actual label')\n",
    "plt.xlabel('Predicted label')\n",
    "plt.legend()\n",
    "\n",
    "# not recognizing my pos_label argument idk why\n",
    "fpr, tpr, _ = roc_curve(y_test, y_prob, pos_label = 'SN Ib')\n",
    "\n",
    "roc_display = RocCurveDisplay(fpr=fpr, tpr=tpr)\n",
    "roc_display.plot()\n",
    "\n",
    "roc_auc = auc(fpr, tpr)\n",
    "print(\"Area under ROC curve (AUC): {:.4f}\".format(roc_auc))"
   ]
  },
  {
   "cell_type": "markdown",
   "metadata": {},
   "source": [
    "### Adding in the Helium Flux feature"
   ]
  },
  {
   "cell_type": "code",
   "execution_count": 28,
   "metadata": {},
   "outputs": [
    {
     "name": "stderr",
     "output_type": "stream",
     "text": [
      "No artists with labels found to put in legend.  Note that artists whose label start with an underscore are ignored when legend() is called with no argument.\n",
      "No artists with labels found to put in legend.  Note that artists whose label start with an underscore are ignored when legend() is called with no argument.\n"
     ]
    },
    {
     "name": "stdout",
     "output_type": "stream",
     "text": [
      "Cross-Validation Scores: [0.88594705 0.84928717 0.88594705 0.84725051 0.87169043 0.82484725\n",
      " 0.87983707 0.86326531 0.84489796 0.87142857]\n",
      "Area under ROC curve (AUC): 0.8851\n"
     ]
    },
    {
     "data": {
      "image/png": "[encoded data removed]",
      "text/plain": [
       "<Figure size 640x480 with 2 Axes>"
      ]
     },
     "metadata": {},
     "output_type": "display_data"
    },
    {
     "data": {
      "image/png": "[encoded data removed]",
      "text/plain": [
       "<Figure size 640x480 with 1 Axes>"
      ]
     },
     "metadata": {},
     "output_type": "display_data"
    }
   ],
   "source": [
    "from sklearn.linear_model import LogisticRegression\n",
    "from sklearn.preprocessing import StandardScaler\n",
    "from sklearn.metrics import confusion_matrix\n",
    "import seaborn as sns\n",
    "from sklearn.metrics import roc_curve, RocCurveDisplay, auc\n",
    "from sklearn.model_selection import cross_val_score\n",
    "\n",
    "# adding in the spectra info\n",
    "\n",
    "# using the same split that Abby used above\n",
    "model = LogisticRegression()\n",
    "model.fit(X2_train, y_train)\n",
    "\n",
    "y_pred = model.predict(X2_test)\n",
    "y_prob = model.predict_proba(X2_test)\n",
    "y_prob = y_prob[:, 1]\n",
    "\n",
    "cf_matrix = confusion_matrix(y_test, y_pred)\n",
    "\n",
    "cv_scores = cross_val_score(model, X2_train, y_train, cv=10, scoring='accuracy')\n",
    "\n",
    "print(\"Cross-Validation Scores:\", cv_scores)\n",
    "\n",
    "sns.heatmap(pd.DataFrame(cf_matrix), annot=True, cmap=\"inferno\" ,fmt='g')\n",
    "plt.title('Confusion matrix')\n",
    "plt.ylabel('Actual label')\n",
    "plt.xlabel('Predicted label')\n",
    "plt.legend()\n",
    "\n",
    "# not recognizing my pos_label argument idk why\n",
    "fpr, tpr, _ = roc_curve(y_test, y_prob, pos_label = 'SN Ib')\n",
    "\n",
    "roc_display = RocCurveDisplay(fpr=fpr, tpr=tpr)\n",
    "roc_display.plot()\n",
    "\n",
    "roc_auc = auc(fpr, tpr)\n",
    "print(\"Area under ROC curve (AUC): {:.4f}\".format(roc_auc))"
   ]
  },
  {
   "cell_type": "code",
   "execution_count": 29,
   "metadata": {},
   "outputs": [
    {
     "name": "stdout",
     "output_type": "stream",
     "text": [
      "Classification Report:\n",
      "               precision    recall  f1-score   support\n",
      "\n",
      "       SN Ia       0.84      0.91      0.88       627\n",
      "       SN Ib       0.90      0.82      0.86       600\n",
      "\n",
      "    accuracy                           0.87      1227\n",
      "   macro avg       0.87      0.87      0.87      1227\n",
      "weighted avg       0.87      0.87      0.87      1227\n",
      "\n"
     ]
    }
   ],
   "source": [
    "# Generate classification report\n",
    "report = classification_report(y_test, y_pred)\n",
    "print(\"Classification Report:\\n\", report)"
   ]
  },
  {
   "cell_type": "code",
   "execution_count": 31,
   "metadata": {},
   "outputs": [
    {
     "data": {
      "text/plain": [
       "new_type\n",
       "SN Ia    3067\n",
       "other    3000\n",
       "SN Ib    3000\n",
       "Name: count, dtype: int64"
      ]
     },
     "execution_count": 31,
     "metadata": {},
     "output_type": "execute_result"
    }
   ],
   "source": [
    "# now with multinomial info \n",
    "# Adding remaining SN as other\n",
    "# Drop rows with missing values\n",
    "\n",
    "from imblearn.over_sampling import RandomOverSampler\n",
    "\n",
    "# Features for classification - we can change these around\n",
    "# Currently not including the wavelength / flux, but we will see later\n",
    "\n",
    "features2 = ['peakabs','duration','redshift','b','peakmag','helium_flux']\n",
    "\n",
    "label = 'new_type'\n",
    "\n",
    "features_label = ['peakabs','duration','redshift','b','peakmag','new_type','helium_flux']\n",
    "\n",
    "new_data = df_merged[features_label].copy()\n",
    "\n",
    "new_data['peakabs'] = pd.to_numeric(new_data['peakabs'], errors='coerce')\n",
    "new_data['duration'] = new_data['duration'].str.replace('>', '', regex=False)\n",
    "new_data['redshift'] = pd.to_numeric(new_data['redshift'], errors='coerce')\n",
    "new_data['b'] = pd.to_numeric(new_data['b'], errors='coerce')\n",
    "new_data['helium_flux'] = pd.to_numeric(new_data['helium_flux'], errors='coerce')\n",
    "\n",
    "new_data = new_data.dropna()\n",
    "\n",
    "y = new_data[label]\n",
    "\n",
    "X2 = new_data[features2]\n",
    "\n",
    "new_data = new_data.dropna()\n",
    "\n",
    "# separating out SN Ia and SN Ib and labeling the others as \"other\"\n",
    "new_data.loc[~new_data['new_type'].isin(['SN Ia', 'SN Ib']), 'new_type'] = 'other'\n",
    "\n",
    "sampling_strategy = {'SN Ib': 3000, 'other': 3000}\n",
    "\n",
    "oversample = RandomOverSampler(sampling_strategy=sampling_strategy)\n",
    "\n",
    "X2_over, y_over = oversample.fit_resample(X2, y)\n",
    "\n",
    "y_over.value_counts()\n"
   ]
  },
  {
   "cell_type": "code",
   "execution_count": 32,
   "metadata": {},
   "outputs": [
    {
     "name": "stderr",
     "output_type": "stream",
     "text": [
      "No artists with labels found to put in legend.  Note that artists whose label start with an underscore are ignored when legend() is called with no argument.\n",
      "No artists with labels found to put in legend.  Note that artists whose label start with an underscore are ignored when legend() is called with no argument.\n"
     ]
    },
    {
     "name": "stdout",
     "output_type": "stream",
     "text": [
      "Cross-Validation Scores: [0.70523416 0.68732782 0.68044077 0.68       0.7062069  0.68551724\n",
      " 0.71172414 0.69931034 0.68413793 0.69931034]\n",
      "Area under ROC curve (AUC): 0.7581\n"
     ]
    },
    {
     "data": {
      "image/png": "[encoded data removed]",
      "text/plain": [
       "<Figure size 640x480 with 2 Axes>"
      ]
     },
     "metadata": {},
     "output_type": "display_data"
    },
    {
     "data": {
      "image/png": "[encoded data removed]",
      "text/plain": [
       "<Figure size 640x480 with 1 Axes>"
      ]
     },
     "metadata": {},
     "output_type": "display_data"
    }
   ],
   "source": [
    "from sklearn.model_selection import cross_val_score\n",
    "\n",
    "# Step 1: Split data into training and testing sets\n",
    "X2_train, X2_test, y_train, y_test = train_test_split(X2_over, y_over, test_size=0.2, random_state=42)\n",
    "\n",
    "model = LogisticRegression(multi_class='multinomial', solver = 'lbfgs', max_iter=10000)\n",
    "\n",
    "model.fit(X2_train, y_train)\n",
    "\n",
    "y_pred = model.predict(X2_test)\n",
    "y_prob = model.predict_proba(X2_test)\n",
    "y_prob = y_prob[:, 1]\n",
    "\n",
    "cv_scores = cross_val_score(model, X2_train, y_train, cv=10, scoring='accuracy')\n",
    "\n",
    "print(\"Cross-Validation Scores:\", cv_scores)\n",
    "\n",
    "cf_matrix = confusion_matrix(y_test, y_pred)\n",
    "\n",
    "sns.heatmap(pd.DataFrame(cf_matrix), annot=True, cmap=\"inferno\" ,fmt='g')\n",
    "plt.title('Confusion matrix')\n",
    "plt.ylabel('Actual label')\n",
    "plt.xlabel('Predicted label')\n",
    "plt.legend()\n",
    "\n",
    "# not recognizing my pos_label argument idk why\n",
    "fpr, tpr, _ = roc_curve(y_test, y_prob, pos_label = 'SN Ib')\n",
    "\n",
    "roc_display = RocCurveDisplay(fpr=fpr, tpr=tpr)\n",
    "roc_display.plot()\n",
    "\n",
    "roc_auc = auc(fpr, tpr)\n",
    "print(\"Area under ROC curve (AUC): {:.4f}\".format(roc_auc))"
   ]
  },
  {
   "cell_type": "code",
   "execution_count": 33,
   "metadata": {},
   "outputs": [
    {
     "name": "stdout",
     "output_type": "stream",
     "text": [
      "Classification Report:\n",
      "               precision    recall  f1-score   support\n",
      "\n",
      "       SN Ia       0.74      0.92      0.82       630\n",
      "       SN Ib       0.66      0.64      0.65       615\n",
      "       other       0.71      0.54      0.61       569\n",
      "\n",
      "    accuracy                           0.71      1814\n",
      "   macro avg       0.70      0.70      0.69      1814\n",
      "weighted avg       0.70      0.71      0.70      1814\n",
      "\n"
     ]
    }
   ],
   "source": [
    "# Generate classification report\n",
    "report = classification_report(y_test, y_pred)\n",
    "print(\"Classification Report:\\n\", report)"
   ]
  },
  {
   "cell_type": "code",
   "execution_count": null,
   "metadata": {},
   "outputs": [],
   "source": [
    "jupyter nbconvert --to slides Final_Project.ipynb --post serve"
   ]
  }
 ],
 "metadata": {
  "kernelspec": {
   "display_name": "Python 3",
   "language": "python",
   "name": "python3"
  },
  "language_info": {
   "codemirror_mode": {
    "name": "ipython",
    "version": 3
   },
   "file_extension": ".py",
   "mimetype": "text/x-python",
   "name": "python",
   "nbconvert_exporter": "python",
   "pygments_lexer": "ipython3",
   "version": "3.11.8"
  }
 },
 "nbformat": 4,
 "nbformat_minor": 2
}
